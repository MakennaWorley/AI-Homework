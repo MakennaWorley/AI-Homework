{
 "cells": [
  {
   "cell_type": "code",
   "metadata": {
    "id": "-cdM8vrPL8ua",
    "ExecuteTime": {
     "end_time": "2025-05-06T16:38:28.131533Z",
     "start_time": "2025-05-06T16:38:27.431273Z"
    }
   },
   "source": [
    "# For tips on running notebooks in Google Colab, see\n",
    "# https://pytorch.org/tutorials/beginner/colab\n",
    "%matplotlib inline\n",
    "\n",
    "!which python"
   ],
   "outputs": [
    {
     "name": "stdout",
     "output_type": "stream",
     "text": [
      "/opt/homebrew/anaconda3/envs/aiml/bin/python\r\n"
     ]
    }
   ],
   "execution_count": 1
  },
  {
   "cell_type": "markdown",
   "metadata": {
    "id": "br1BNo81L8uc"
   },
   "source": [
    "\n",
    "# Lab 2: Application of Reinforcement Learning (DQN)\n",
    "**Author**: [Adam Paszke](https://github.com/apaszke)\n",
    "            [Mark Towers](https://github.com/pseudo-rnd-thoughts)\n",
    "            Jingsai Liang\n",
    "\n",
    "\n",
    "This lab is to use PyTorch to train a Deep Q Learning (DQN) agent\n",
    "on a task from [Gymnasium](https://www.gymnasium.farama.org)_.\n",
    "\n",
    "**Task**\n",
    "\n",
    "Please visit this page (https://gymnasium.farama.org/environments/box2d/lunar_lander/) to read the full description of the game *Lunar Lander* and answe following questions.\n",
    "\n",
    "You also can play this game online here:\n",
    "http://moonlander.seb.ly/\n",
    "\n",
    "\n",
    "\n",
    "\n",
    "\n"
   ]
  },
  {
   "cell_type": "markdown",
   "source": [
    "Question 1: What observations can the agent collect at each step of the game?\n",
    "\n",
    "coordinate pair of (x,y), linear velocities in x and y directors, angle, angular velcoty, and if the legs are both on the ground"
   ],
   "metadata": {
    "id": "3KJkCdjJR2zD"
   }
  },
  {
   "cell_type": "markdown",
   "source": [
    "Question 2: What actions can the agent take after receving the observation?\n",
    "\n",
    "Fire left, fire right, fire up, or fire nothing"
   ],
   "metadata": {
    "id": "5T7cHgrcR3oh"
   }
  },
  {
   "cell_type": "markdown",
   "source": [
    "Question 3: What rewards do the agent receive during the game?\n",
    "\n",
    "distance from landing pad, speed (x and y) of rocket ship, rocket ship angle, leg contact, which engine is firing"
   ],
   "metadata": {
    "id": "ToNtFmBlR3xF"
   }
  },
  {
   "cell_type": "markdown",
   "source": [
    "Question 4: When will the game terminate or truncate?\n",
    "\n",
    "When the rocket ship lands or crashes or is outside the viewport"
   ],
   "metadata": {
    "id": "c16tIE4-SJrg"
   }
  },
  {
   "cell_type": "markdown",
   "source": [
    "**Packages**\n",
    "\n",
    "First, let's import needed packages. Firstly, we need\n",
    "[gymnasium](https://gymnasium.farama.org/)_ for the environment,\n",
    "installed by using `pip`. This is a fork of the original OpenAI\n",
    "Gym project and maintained by the same team since Gym v0.19.\n",
    "If you are running this in Google colab, run:"
   ],
   "metadata": {
    "id": "rIj6YZjbRc1K"
   }
  },
  {
   "cell_type": "code",
   "metadata": {
    "id": "2Qt3o8YAL8ue",
    "ExecuteTime": {
     "end_time": "2025-05-06T16:38:29.444313Z",
     "start_time": "2025-05-06T16:38:28.307606Z"
    }
   },
   "source": [
    "%%bash\n",
    "pip3 install gymnasium[box2d]"
   ],
   "outputs": [
    {
     "name": "stdout",
     "output_type": "stream",
     "text": [
      "Requirement already satisfied: gymnasium[box2d] in /opt/homebrew/anaconda3/envs/aiml/lib/python3.12/site-packages (1.1.1)\n",
      "Requirement already satisfied: numpy>=1.21.0 in /opt/homebrew/anaconda3/envs/aiml/lib/python3.12/site-packages (from gymnasium[box2d]) (2.0.1)\n",
      "Requirement already satisfied: cloudpickle>=1.2.0 in /opt/homebrew/anaconda3/envs/aiml/lib/python3.12/site-packages (from gymnasium[box2d]) (3.1.1)\n",
      "Requirement already satisfied: typing-extensions>=4.3.0 in /opt/homebrew/anaconda3/envs/aiml/lib/python3.12/site-packages (from gymnasium[box2d]) (4.12.2)\n",
      "Requirement already satisfied: farama-notifications>=0.0.1 in /opt/homebrew/anaconda3/envs/aiml/lib/python3.12/site-packages (from gymnasium[box2d]) (0.0.4)\n",
      "Requirement already satisfied: box2d-py==2.3.5 in /opt/homebrew/anaconda3/envs/aiml/lib/python3.12/site-packages (from gymnasium[box2d]) (2.3.5)\n",
      "Requirement already satisfied: pygame>=2.1.3 in /opt/homebrew/anaconda3/envs/aiml/lib/python3.12/site-packages (from gymnasium[box2d]) (2.6.1)\n",
      "Requirement already satisfied: swig==4.* in /opt/homebrew/anaconda3/envs/aiml/lib/python3.12/site-packages (from gymnasium[box2d]) (4.3.1)\n"
     ]
    }
   ],
   "execution_count": 2
  },
  {
   "cell_type": "markdown",
   "metadata": {
    "id": "-eRxIzv_L8ue"
   },
   "source": [
    "We'll also use the following from PyTorch:\n",
    "\n",
    "-  neural networks (``torch.nn``)\n",
    "-  optimization (``torch.optim``)\n",
    "-  automatic differentiation (``torch.autograd``)\n"
   ]
  },
  {
   "cell_type": "code",
   "metadata": {
    "id": "RuoVd3_zL8ue",
    "ExecuteTime": {
     "end_time": "2025-05-06T16:38:31.504415Z",
     "start_time": "2025-05-06T16:38:29.450692Z"
    }
   },
   "source": [
    "import gymnasium as gym\n",
    "import math\n",
    "import random\n",
    "import matplotlib\n",
    "import matplotlib.pyplot as plt\n",
    "from collections import namedtuple, deque\n",
    "from itertools import count\n",
    "\n",
    "import torch\n",
    "import torch.nn as nn\n",
    "import torch.optim as optim\n",
    "import torch.nn.functional as F\n",
    "\n",
    "env = gym.make(\"LunarLander-v3\")\n",
    "\n",
    "# set up matplotlib\n",
    "is_ipython = 'inline' in matplotlib.get_backend()\n",
    "if is_ipython:\n",
    "    from IPython import display\n",
    "\n",
    "plt.ion()\n",
    "\n",
    "# if gpu is to be used\n",
    "device = torch.device(\"cuda\" if torch.cuda.is_available() else \"mps\" if torch.backends.mps.is_available() else \"cpu\")\n",
    "print(device)"
   ],
   "outputs": [
    {
     "name": "stdout",
     "output_type": "stream",
     "text": [
      "mps\n"
     ]
    }
   ],
   "execution_count": 3
  },
  {
   "cell_type": "markdown",
   "metadata": {
    "id": "x5IcNUB7L8ue"
   },
   "source": [
    "## Replay Memory\n",
    "\n",
    "We'll be using experience replay memory for training our DQN. It stores\n",
    "the transitions that the agent observes, allowing us to reuse this data\n",
    "later. By sampling from it randomly, the transitions that build up a\n",
    "batch are decorrelated. It has been shown that this greatly stabilizes\n",
    "and improves the DQN training procedure.\n",
    "\n",
    "For this, we're going to need two classses:\n",
    "\n",
    "-  ``Transition`` - a named tuple representing a single transition in\n",
    "   our environment. It essentially maps (state, action) pairs\n",
    "   to their (next_state, reward) result, with the state being the\n",
    "   screen difference image as described later on.\n",
    "-  ``ReplayMemory`` - a cyclic buffer of bounded size that holds the\n",
    "   transitions observed recently. It also implements a ``.sample()``\n",
    "   method for selecting a random batch of transitions for training.\n",
    "\n",
    "\n"
   ]
  },
  {
   "cell_type": "code",
   "metadata": {
    "id": "zRix5fNfL8uf",
    "ExecuteTime": {
     "end_time": "2025-05-06T16:38:31.513753Z",
     "start_time": "2025-05-06T16:38:31.511346Z"
    }
   },
   "source": [
    "Transition = namedtuple('Transition',\n",
    "                        ('state', 'action', 'next_state', 'reward'))\n",
    "\n",
    "\n",
    "class ReplayMemory(object):\n",
    "\n",
    "    def __init__(self, capacity):\n",
    "        self.memory = deque([], maxlen=capacity)\n",
    "\n",
    "    def push(self, *args):\n",
    "        \"\"\"Save a transition\"\"\"\n",
    "        self.memory.append(Transition(*args))\n",
    "\n",
    "    def sample(self, batch_size):\n",
    "        return random.sample(self.memory, batch_size)\n",
    "\n",
    "    def __len__(self):\n",
    "        return len(self.memory)"
   ],
   "outputs": [],
   "execution_count": 4
  },
  {
   "cell_type": "markdown",
   "metadata": {
    "id": "kbCrjNmHL8uf"
   },
   "source": [
    "## DQN\n",
    "\n",
    "Now, let's define our model.\n",
    "\n",
    "You need to define and change the structure of your network\n",
    "for training a better result such as:\n",
    "  \n",
    "- number of layers\n",
    "- number of neurons on layers\n",
    "- activation functions\n",
    "\n"
   ]
  },
  {
   "cell_type": "code",
   "metadata": {
    "id": "-mvmbe5_L8ug",
    "ExecuteTime": {
     "end_time": "2025-05-06T16:38:31.551610Z",
     "start_time": "2025-05-06T16:38:31.549251Z"
    }
   },
   "source": [
    "class DQN(nn.Module):\n",
    "\n",
    "    def __init__(self, n_observations, n_actions):\n",
    "        super(DQN, self).__init__()\n",
    "        self.layer1 = nn.Linear(n_observations, 128)\n",
    "        self.layer2 = nn.Linear(128, 128)\n",
    "        self.output_layer = nn.Linear(128, n_actions)\n",
    "\n",
    "    # Called with either one element to determine next action, or a batch\n",
    "    # during optimization. Returns tensor([[left0exp,right0exp]...]).\n",
    "    def forward(self, x):\n",
    "        x = F.relu(self.layer1(x))\n",
    "        x = F.relu(self.layer2(x))\n",
    "        return self.output_layer(x)"
   ],
   "outputs": [],
   "execution_count": 5
  },
  {
   "cell_type": "markdown",
   "metadata": {
    "id": "5b-z0TCKL8ug"
   },
   "source": [
    "## Training\n",
    "\n",
    "### Hyperparameters\n",
    "\n"
   ]
  },
  {
   "cell_type": "code",
   "source": [
    "\"\"\"You need to initialize these hyperparameters to tune your training.\n",
    "Replace None by numbers.\n",
    "\"\"\"\n",
    "\n",
    "# Total number of episodes for training\n",
    "num_episodes = 300\n",
    "# BATCH_SIZE is the number of transitions sampled from the replay buffer\n",
    "BATCH_SIZE = 64\n",
    "# GAMMA is the discount factor as mentioned in the previous section\n",
    "GAMMA = .99\n",
    "# LR is the learning rate of the AdamW optimizer\n",
    "LR = 1e-3\n",
    "# Size of the replay memory\n",
    "MEMORY_SIZE = 10000\n",
    "# TAU is the update rate of the target network\n",
    "TAU = 0.005\n",
    "\n",
    "# EPS_START is the starting value of epsilon\n",
    "# EPS_END is the final value of epsilon\n",
    "# EPS_DECAY controls the rate of exponential decay of epsilon, higher means a slower decay\n",
    "EPS_START = 1.0\n",
    "EPS_END = 0.01\n",
    "EPS_DECAY = 500"
   ],
   "metadata": {
    "id": "lyrttx0DgWte",
    "ExecuteTime": {
     "end_time": "2025-05-06T16:38:31.583653Z",
     "start_time": "2025-05-06T16:38:31.581273Z"
    }
   },
   "outputs": [],
   "execution_count": 6
  },
  {
   "cell_type": "markdown",
   "source": [
    "### Utilities\n",
    "This cell instantiates our model and its optimizer, and defines some\n",
    "utilities:\n",
    "\n",
    "-  ``select_action`` - will select an action accordingly to an epsilon\n",
    "   greedy policy. Simply put, we'll sometimes use our model for choosing\n",
    "   the action, and sometimes we'll just sample one uniformly. The\n",
    "   probability of choosing a random action will start at ``EPS_START``\n",
    "   and will decay exponentially towards ``EPS_END``. ``EPS_DECAY``\n",
    "   controls the rate of the decay.\n",
    "-  ``plot_rewards`` - a helper for plotting the rewards of episodes,\n",
    "   along with an average over the last 100 episodes (the measure used in\n",
    "   the official evaluations). The plot will be underneath the cell\n",
    "   containing the main training loop, and will update after every\n",
    "   episode.\n"
   ],
   "metadata": {
    "id": "38i3EWNJiwpf"
   }
  },
  {
   "cell_type": "code",
   "metadata": {
    "id": "Al-95s5JL8uh",
    "ExecuteTime": {
     "end_time": "2025-05-06T16:38:33.266198Z",
     "start_time": "2025-05-06T16:38:31.606058Z"
    }
   },
   "source": [
    "# Get number of actions from gym action space\n",
    "n_actions = env.action_space.n\n",
    "# Get the number of state observations\n",
    "state, info = env.reset()\n",
    "n_observations = len(state)\n",
    "\n",
    "policy_net = DQN(n_observations, n_actions).to(device)\n",
    "target_net = DQN(n_observations, n_actions).to(device)\n",
    "target_net.load_state_dict(policy_net.state_dict())\n",
    "\n",
    "optimizer = optim.AdamW(policy_net.parameters(), lr=LR, amsgrad=True)\n",
    "memory = ReplayMemory(MEMORY_SIZE)\n",
    "\n",
    "steps_done = 0\n",
    "def select_action(state):\n",
    "    global steps_done\n",
    "    sample = random.random()\n",
    "    eps_threshold = EPS_END + (EPS_START - EPS_END) * \\\n",
    "        math.exp(-1. * steps_done / EPS_DECAY)\n",
    "    steps_done += 1\n",
    "    if sample > eps_threshold:\n",
    "        with torch.no_grad():\n",
    "            # t.max(1) will return the largest column value of each row.\n",
    "            # second column on max result is index of where max element was\n",
    "            # found, so we pick action with the larger expected reward.\n",
    "            return policy_net(state).max(1)[1].view(1, 1)\n",
    "    else:\n",
    "        return torch.tensor([[env.action_space.sample()]], device=device, dtype=torch.long)\n",
    "\n",
    "episode_rewards = []\n",
    "def plot_rewards(show_result=False):\n",
    "    plt.figure(1)\n",
    "    rewards_t = torch.tensor(episode_rewards, dtype=torch.float)\n",
    "    if show_result:\n",
    "        plt.title('Result')\n",
    "    else:\n",
    "        plt.clf()\n",
    "        plt.title('Training...')\n",
    "    plt.xlabel('Episode')\n",
    "    plt.ylabel('Rewards')\n",
    "    plt.plot(rewards_t.numpy())\n",
    "    # Take 100 episode averages and plot them too\n",
    "    if len(rewards_t) >= 100:\n",
    "        means = rewards_t.unfold(0, 100, 1).mean(1).view(-1)\n",
    "        means = torch.cat((torch.zeros(99), means))\n",
    "        plt.plot(means.numpy())\n",
    "\n",
    "    plt.pause(0.001)  # pause a bit so that plots are updated\n",
    "    if is_ipython:\n",
    "        if not show_result:\n",
    "            display.display(plt.gcf())\n",
    "            display.clear_output(wait=True)\n",
    "        else:\n",
    "            display.display(plt.gcf())"
   ],
   "outputs": [],
   "execution_count": 7
  },
  {
   "cell_type": "markdown",
   "metadata": {
    "id": "tMfDGn2XL8uh"
   },
   "source": [
    "### Training loop\n",
    "\n",
    "Finally, the code for training our model.\n",
    "\n",
    "Here, you can find an ``optimize_model`` function that performs a\n",
    "single step of the optimization. It first samples a batch, concatenates\n",
    "all the tensors into a single one, computes $Q(s_t, a_t)$ and\n",
    "$V(s_{t+1}) = \\max_a Q(s_{t+1}, a)$, and combines them into our\n",
    "loss. By definition we set $V(s) = 0$ if $s$ is a terminal\n",
    "state. We also use a target network to compute $V(s_{t+1})$ for\n",
    "added stability. The target network is updated at every step with a\n",
    "[soft update](https://arxiv.org/pdf/1509.02971.pdf)_ controlled by\n",
    "the hyperparameter ``TAU``, which was previously defined.\n",
    "\n",
    "\n"
   ]
  },
  {
   "cell_type": "code",
   "metadata": {
    "id": "oMtwP2erL8ui",
    "ExecuteTime": {
     "end_time": "2025-05-06T16:38:33.275215Z",
     "start_time": "2025-05-06T16:38:33.271807Z"
    }
   },
   "source": [
    "def optimize_model():\n",
    "    if len(memory) < BATCH_SIZE:\n",
    "        return\n",
    "    transitions = memory.sample(BATCH_SIZE)\n",
    "    # Transpose the batch (see https://stackoverflow.com/a/19343/3343043 for\n",
    "    # detailed explanation). This converts batch-array of Transitions\n",
    "    # to Transition of batch-arrays.\n",
    "    batch = Transition(*zip(*transitions))\n",
    "\n",
    "    # Compute a mask of non-final states and concatenate the batch elements\n",
    "    # (a final state would've been the one after which simulation ended)\n",
    "    non_final_mask = torch.tensor(tuple(map(lambda s: s is not None,\n",
    "                                          batch.next_state)), device=device, dtype=torch.bool)\n",
    "    non_final_next_states = torch.cat([s for s in batch.next_state\n",
    "                                                if s is not None])\n",
    "\n",
    "    # print(\"here\",batch.state[0])\n",
    "\n",
    "    state_batch = torch.cat(batch.state) # stack the state vertically row by row. the size is 128*4.\n",
    "    action_batch = torch.cat(batch.action)\n",
    "    reward_batch = torch.cat(batch.reward)\n",
    "\n",
    "    # print(state_batch.shape)\n",
    "\n",
    "    # Compute Q(s_t, a) - the model computes Q(s_t), then we select the\n",
    "    # columns of actions taken. These are the actions which would've been taken\n",
    "    # for each batch state according to policy_net\n",
    "    state_action_values = policy_net(state_batch).gather(1, action_batch)\n",
    "\n",
    "    # Compute V(s_{t+1}) for all next states.\n",
    "    # Expected values of actions for non_final_next_states are computed based\n",
    "    # on the \"older\" target_net; selecting their best reward with max(1)[0].\n",
    "    # This is merged based on the mask, such that we'll have either the expected\n",
    "    # state value or 0 in case the state was final.\n",
    "    next_state_values = torch.zeros(BATCH_SIZE, device=device)\n",
    "    with torch.no_grad():\n",
    "        next_state_values[non_final_mask] = target_net(non_final_next_states).max(1)[0]\n",
    "    # Compute the expected Q values\n",
    "    expected_state_action_values = (next_state_values * GAMMA) + reward_batch\n",
    "\n",
    "    # Compute Huber loss\n",
    "    criterion = nn.SmoothL1Loss()\n",
    "    loss = criterion(state_action_values, expected_state_action_values.unsqueeze(1))\n",
    "\n",
    "    # Optimize the model\n",
    "    optimizer.zero_grad()\n",
    "    loss.backward()\n",
    "    # In-place gradient clipping\n",
    "    torch.nn.utils.clip_grad_value_(policy_net.parameters(), 100)\n",
    "    optimizer.step()"
   ],
   "outputs": [],
   "execution_count": 8
  },
  {
   "cell_type": "markdown",
   "metadata": {
    "id": "OKmtlbdWL8ui"
   },
   "source": [
    "Below, you can find the main training loop. At the beginning we reset\n",
    "the environment and obtain the initial ``state`` Tensor. Then, we sample\n",
    "an action, execute it, observe the next state and the reward (always\n",
    "1), and optimize our model once. When the episode ends (our model\n",
    "fails), we restart the loop.\n",
    "\n",
    "Training RL agents can be a noisy process, so restarting training\n",
    "can produce better results if convergence is not observed.\n",
    "\n",
    "\n"
   ]
  },
  {
   "cell_type": "markdown",
   "source": [
    "**Warning**\n",
    "\n",
    "The training may take hours to finish. It it better to add some code below to *periodically* save your model, in case your colab is disconnected and you can load your model and resume the training.\n",
    "\n",
    "The instructions of saving and loading models is in next section."
   ],
   "metadata": {
    "id": "hvMfQEqWpNwc"
   }
  },
  {
   "cell_type": "code",
   "metadata": {
    "id": "tf1spaMKL8ui",
    "collapsed": true
   },
   "source": [
    "for i_episode in range(num_episodes):\n",
    "    # Initialize the environment and get it's state\n",
    "    state, info = env.reset()\n",
    "    total_rewards = 0\n",
    "    state = torch.tensor(state, dtype=torch.float32, device=device).unsqueeze(0)\n",
    "    while True:\n",
    "        action = select_action(state)\n",
    "        observation, reward, terminated, truncated, _ = env.step(action.item())\n",
    "\n",
    "        total_rewards += reward\n",
    "\n",
    "        reward = torch.tensor([reward], dtype=torch.float32, device=device)\n",
    "        done = terminated or truncated\n",
    "\n",
    "        if terminated:\n",
    "            next_state = None\n",
    "        else:\n",
    "            next_state = torch.tensor(observation, dtype=torch.float32, device=device).unsqueeze(0)\n",
    "\n",
    "        # Store the transition in memory\n",
    "        memory.push(state, action, next_state, reward)\n",
    "\n",
    "        # Move to the next state\n",
    "        state = next_state\n",
    "\n",
    "        # Perform one step of the optimization (on the policy network)\n",
    "        optimize_model()\n",
    "\n",
    "        # Soft update of the target network's weights\n",
    "        # θ′ ← τ θ + (1 −τ )θ′\n",
    "        target_net_state_dict = target_net.state_dict()\n",
    "        policy_net_state_dict = policy_net.state_dict()\n",
    "        for key in policy_net_state_dict:\n",
    "            target_net_state_dict[key] = policy_net_state_dict[key]*TAU + target_net_state_dict[key]*(1-TAU)\n",
    "        target_net.load_state_dict(target_net_state_dict)\n",
    "\n",
    "        if done:\n",
    "            episode_rewards.append(total_rewards)\n",
    "            plot_rewards()\n",
    "            break\n",
    "\n",
    "\n",
    "\n",
    "print('Complete')\n",
    "plot_rewards(show_result=True)\n",
    "plt.ioff()\n",
    "plt.show()"
   ],
   "execution_count": 10,
   "outputs": [
    {
     "data": {
      "text/plain": [
       "<Figure size 640x480 with 1 Axes>"
      ],
      "image/png": "[encoded data removed]"
     },
     "metadata": {},
     "output_type": "display_data"
    },
    {
     "data": {
      "text/plain": [
       "<Figure size 640x480 with 0 Axes>"
      ]
     },
     "metadata": {},
     "output_type": "display_data"
    },
    {
     "data": {
      "text/plain": [
       "<Figure size 640x480 with 0 Axes>"
      ]
     },
     "metadata": {},
     "output_type": "display_data"
    }
   ]
  },
  {
   "cell_type": "markdown",
   "source": [
    "You are expected to see a training picture like the one below. It shows that after running 1500 episodes, the model becomes stable around the rewards of 200 points."
   ],
   "metadata": {
    "id": "A8zCRIWzmRRT"
   }
  },
  {
   "cell_type": "markdown",
   "source": [
    "![](https://cs.westminstercollege.edu/~jingsai/courses/CMPT301/assignments/lunarlander/model2_training.png)"
   ],
   "metadata": {
    "id": "bwdgFlmqinhm"
   }
  },
  {
   "cell_type": "markdown",
   "source": [
    "## Save and load model\n",
    "\n",
    "Do not forget to save your model to your own goodle drive if you get a good model. Otherwise, you need to train your network again to get it.\n",
    "\n",
    "Before saving your mode, you need to run the code below to mount your drive to this notebook."
   ],
   "metadata": {
    "id": "jEeWoigbPe-O"
   }
  },
  {
   "cell_type": "code",
   "source": [
    "#from google.colab import drive\n",
    "#drive.mount('/content/drive')\n",
    "\n",
    "# Force to mount again even though the drive has been already mounted.\n",
    "# drive.mount('/content/drive',force_remount=True)\n",
    "\n",
    "# disconnect the mount\n",
    "# drive.flush_and_unmount()\n"
   ],
   "metadata": {
    "id": "r7ntkB30P2eJ"
   },
   "outputs": [],
   "execution_count": null
  },
  {
   "cell_type": "markdown",
   "source": [
    "### Save model\n",
    "\n",
    "Change the last filename in the path to save it."
   ],
   "metadata": {
    "id": "6EKVW3OolODK"
   }
  },
  {
   "cell_type": "code",
   "source": [
    "#torch.save(policy_net, '/content/drive/My Drive/Colab Notebooks/model.pth')\n",
    "\n",
    "torch.save(policy_net.state_dict(), 'lunar_lander_model.pth')\n",
    "\n",
    "torch.save({\n",
    "    'model_state_dict': policy_net.state_dict(),\n",
    "    'optimizer_state_dict': optimizer.state_dict(),\n",
    "}, 'lunar_lander_checkpoint.pth')"
   ],
   "metadata": {
    "id": "S9CaH1mjPeV6",
    "ExecuteTime": {
     "end_time": "2025-05-06T16:59:02.699621Z",
     "start_time": "2025-05-06T16:59:02.667750Z"
    }
   },
   "outputs": [],
   "execution_count": 11
  },
  {
   "cell_type": "markdown",
   "source": [
    "### Load model\n",
    "\n",
    "Load your model without training the network. You need to make sure that the structure of the network you defined earlier in this notebook must match the model you are loading here.\n",
    "\n",
    "If the model was trained in GPU while the running time is CPU now, you need to add `map_location=torch.device('cpu')` in `torch.load` to change the device."
   ],
   "metadata": {
    "id": "dajhkPy1lbdx"
   }
  },
  {
   "cell_type": "code",
   "source": [
    "#policy_net = torch.load('/content/drive/My Drive/Colab Notebooks/model.pth')\n",
    "\n",
    "policy_net.load_state_dict(torch.load('lunar_lander_model.pth', weights_only=True))\n",
    "policy_net.eval()\n",
    "\n",
    "checkpoint = torch.load('lunar_lander_checkpoint.pth', weights_only=True)\n",
    "policy_net.load_state_dict(checkpoint['model_state_dict'])\n",
    "optimizer.load_state_dict(checkpoint['optimizer_state_dict'])"
   ],
   "metadata": {
    "id": "5NSM4Xw8ZMXk",
    "ExecuteTime": {
     "end_time": "2025-05-06T16:59:05.218920Z",
     "start_time": "2025-05-06T16:59:05.194663Z"
    }
   },
   "outputs": [],
   "execution_count": 12
  },
  {
   "cell_type": "markdown",
   "source": [
    "## Testing"
   ],
   "metadata": {
    "id": "JDxxZ-TtmI3Q"
   }
  },
  {
   "cell_type": "markdown",
   "source": [
    "### Testing through animation\n",
    "\n",
    "You should see a video showing lunar lander successfully landed on the moon!"
   ],
   "metadata": {
    "id": "YpSeXvs0Q7qq"
   }
  },
  {
   "cell_type": "code",
   "source": [
    "# For visualization and analysis\n",
    "import numpy as np\n",
    "import matplotlib.pyplot as plt\n",
    "from IPython.display import HTML\n",
    "from IPython import display\n",
    "import io, base64"
   ],
   "metadata": {
    "id": "H9lOvFCiY69C",
    "ExecuteTime": {
     "end_time": "2025-05-06T16:59:07.457440Z",
     "start_time": "2025-05-06T16:59:07.454660Z"
    }
   },
   "outputs": [],
   "execution_count": 13
  },
  {
   "cell_type": "code",
   "source": [
    "def select_action_testing(state):\n",
    "    with torch.no_grad():\n",
    "        return policy_net(state).max(1)[1].view(1, 1)\n",
    "\n",
    "def show_video(video_name):\n",
    "    file = '{}.mp4'.format(video_name)\n",
    "    mp4 = open(file,'rb').read()\n",
    "    data_url = \"data:video/mp4;base64,\" + base64.b64encode(mp4).decode()\n",
    "    display.display(HTML(\"\"\"\n",
    "    <video height: 400px controls>\n",
    "          <source src=\"%s\" type=\"video/mp4\">\n",
    "    </video>\n",
    "    \"\"\" % data_url))"
   ],
   "metadata": {
    "id": "Ie-KtYJ-Ys3c",
    "ExecuteTime": {
     "end_time": "2025-05-06T16:59:09.387206Z",
     "start_time": "2025-05-06T16:59:09.383706Z"
    }
   },
   "outputs": [],
   "execution_count": 14
  },
  {
   "cell_type": "code",
   "source": [
    "env = gym.make(\"LunarLander-v3\", render_mode = \"rgb_array\")\n",
    "env = gym.wrappers.RecordVideo(env, video_folder=\"./\")\n",
    "\n",
    "obs, info = env.reset()\n",
    "while True:\n",
    "    obs = torch.tensor(obs, dtype=torch.float32, device=device).unsqueeze(0)\n",
    "    action = select_action_testing(obs)\n",
    "    obs, reward, terminated, truncated, info = env.step(action.item())\n",
    "\n",
    "    if terminated or truncated:\n",
    "        break\n",
    "\n",
    "env.close()"
   ],
   "metadata": {
    "id": "qVm5ZBRFkc5o",
    "ExecuteTime": {
     "end_time": "2025-05-06T16:59:13.432232Z",
     "start_time": "2025-05-06T16:59:12.031002Z"
    }
   },
   "outputs": [
    {
     "name": "stderr",
     "output_type": "stream",
     "text": [
      "/opt/homebrew/anaconda3/envs/aiml/lib/python3.12/site-packages/gymnasium/wrappers/rendering.py:283: UserWarning: \u001B[33mWARN: Overwriting existing videos at /Users/makennaworley/Library/CloudStorage/OneDrive-Personal/Desktop/Undergrad Westminster/CMPT 301 Artificial Intelligence/lab2 folder (try specifying a different `video_folder` for the `RecordVideo` wrapper if this is not desired)\u001B[0m\n",
      "  logger.warn(\n"
     ]
    }
   ],
   "execution_count": 15
  },
  {
   "cell_type": "markdown",
   "source": [
    "The video is saved in a temporary folder. You can permanently save it in your google drive."
   ],
   "metadata": {
    "id": "TYVEWSDU4pl_"
   }
  },
  {
   "cell_type": "code",
   "source": [
    "show_video(\"rl-video-episode-0\")"
   ],
   "metadata": {
    "id": "YjKC3kg6ioAz",
    "ExecuteTime": {
     "end_time": "2025-05-06T16:59:14.862145Z",
     "start_time": "2025-05-06T16:59:14.855132Z"
    }
   },
   "outputs": [
    {
     "data": {
      "text/plain": [
       "<IPython.core.display.HTML object>"
      ],
      "text/html": [
       "\n",
       "    <video height: 400px controls>\n",
       "          <source src=\"data:video/mp4;base64,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\" type=\"video/mp4\">\n",
       "    </video>\n",
       "    "
      ]
     },
     "metadata": {},
     "output_type": "display_data"
    }
   ],
   "execution_count": 16
  },
  {
   "cell_type": "markdown",
   "source": [
    "You are expected to see a video like this:"
   ],
   "metadata": {
    "id": "NLBWqM55k7sM"
   }
  },
  {
   "cell_type": "code",
   "source": [
    "%%html\n",
    "<iframe width=\"500\" height=\"350\" src=\"https://cs.westminstercollege.edu/~jingsai/courses/CMPT301/assignments/lunarlander/model_video.mp4\" title=\"YouTube video player\" frameborder=\"0\" allow=\"accelerometer; autoplay; clipboard-write; encrypted-media; gyroscope; picture-in-picture\" allowfullscreen></iframe>\n"
   ],
   "metadata": {
    "id": "edUcyA8bktmH",
    "ExecuteTime": {
     "end_time": "2025-05-06T16:59:18.878976Z",
     "start_time": "2025-05-06T16:59:18.875567Z"
    }
   },
   "outputs": [
    {
     "data": {
      "text/plain": [
       "<IPython.core.display.HTML object>"
      ],
      "text/html": [
       "<iframe width=\"500\" height=\"350\" src=\"https://cs.westminstercollege.edu/~jingsai/courses/CMPT301/assignments/lunarlander/model_video.mp4\" title=\"YouTube video player\" frameborder=\"0\" allow=\"accelerometer; autoplay; clipboard-write; encrypted-media; gyroscope; picture-in-picture\" allowfullscreen></iframe>\n",
       "\n"
      ]
     },
     "metadata": {},
     "output_type": "display_data"
    }
   ],
   "execution_count": 17
  },
  {
   "cell_type": "markdown",
   "source": [
    "### Testing through statistics\n",
    "\n",
    "Run your agent 1000 times of episodes.\n",
    "\n",
    "An episode is considered a solution if it scores at least 200 points.\n",
    "\n",
    "Calculate the average rewards and the percetage of solutions."
   ],
   "metadata": {
    "id": "iRFYe-TcmCRX"
   }
  },
  {
   "cell_type": "code",
   "source": [
    "total_rewards_list = []\n",
    "\n",
    "for i in range(1000):\n",
    "    env = gym.make(\"LunarLander-v3\")\n",
    "    obs, info = env.reset()\n",
    "    total_rewards = 0\n",
    "    while True:\n",
    "        obs = torch.tensor(obs, dtype=torch.float32, device=device).unsqueeze(0)\n",
    "        action = select_action_testing(obs)\n",
    "        obs, reward, terminated, truncated, info = env.step(action.item())\n",
    "\n",
    "        total_rewards += reward\n",
    "\n",
    "        if terminated or truncated:\n",
    "            break\n",
    "    if not i%100:\n",
    "        print(i, \"/1000 completed.\")\n",
    "\n",
    "    total_rewards_list.append(total_rewards)\n",
    "    env.close()"
   ],
   "metadata": {
    "id": "GPYMT6iBcL0Y",
    "ExecuteTime": {
     "end_time": "2025-05-06T17:02:16.377464Z",
     "start_time": "2025-05-06T16:59:20.924028Z"
    }
   },
   "outputs": [
    {
     "name": "stdout",
     "output_type": "stream",
     "text": [
      "0 /1000 completed.\n",
      "100 /1000 completed.\n",
      "200 /1000 completed.\n",
      "300 /1000 completed.\n",
      "400 /1000 completed.\n",
      "500 /1000 completed.\n",
      "600 /1000 completed.\n",
      "700 /1000 completed.\n",
      "800 /1000 completed.\n",
      "900 /1000 completed.\n"
     ]
    }
   ],
   "execution_count": 18
  },
  {
   "cell_type": "markdown",
   "source": [
    "**Goal**\n",
    "\n",
    "Your lab is considered perfect if the average rewards is larger than 200 and the percentage of solutions is larger than 50%."
   ],
   "metadata": {
    "id": "hcJWBk5Elpqy"
   }
  },
  {
   "cell_type": "code",
   "source": [
    "# average rewards\n",
    "np.mean(total_rewards_list)"
   ],
   "metadata": {
    "id": "yJ-YvAeUeQfb",
    "ExecuteTime": {
     "end_time": "2025-05-06T17:02:16.730183Z",
     "start_time": "2025-05-06T17:02:16.727905Z"
    }
   },
   "outputs": [
    {
     "data": {
      "text/plain": [
       "np.float64(220.0132358795485)"
      ]
     },
     "execution_count": 19,
     "metadata": {},
     "output_type": "execute_result"
    }
   ],
   "execution_count": 19
  },
  {
   "cell_type": "code",
   "source": [
    "# percentage of solutions\n",
    "np.sum(np.array(total_rewards_list)>=200)/1000"
   ],
   "metadata": {
    "id": "IejX9TvygWRe",
    "ExecuteTime": {
     "end_time": "2025-05-06T17:02:17.079142Z",
     "start_time": "2025-05-06T17:02:17.076865Z"
    }
   },
   "outputs": [
    {
     "data": {
      "text/plain": [
       "np.float64(0.842)"
      ]
     },
     "execution_count": 20,
     "metadata": {},
     "output_type": "execute_result"
    }
   ],
   "execution_count": 20
  },
  {
   "cell_type": "code",
   "source": [
    "# histogram of rewards\n",
    "plt.hist(total_rewards_list)\n",
    "plt.xlabel(\"Rewards\")\n",
    "plt.ylabel(\"Counts\")\n",
    "plt.show()"
   ],
   "metadata": {
    "id": "QAs52nV_f95Y",
    "ExecuteTime": {
     "end_time": "2025-05-06T17:02:17.468326Z",
     "start_time": "2025-05-06T17:02:17.415612Z"
    }
   },
   "outputs": [
    {
     "data": {
      "text/plain": [
       "<Figure size 640x480 with 1 Axes>"
      ],
      "image/png": "[encoded data removed]"
     },
     "metadata": {},
     "output_type": "display_data"
    }
   ],
   "execution_count": 21
  },
  {
   "cell_type": "markdown",
   "source": [
    "You are expected to see a histogram like this:"
   ],
   "metadata": {
    "id": "f8qPu6GwlEXL"
   }
  },
  {
   "cell_type": "markdown",
   "source": [
    "![](https://cs.westminstercollege.edu/~jingsai/courses/CMPT301/assignments/lunarlander/model_hist.png)"
   ],
   "metadata": {
    "id": "b1aruP-_m6yq"
   }
  },
  {
   "cell_type": "markdown",
   "source": [
    "## Submission\n",
    "\n",
    "You need to submit both\n",
    "\n",
    "- source code\n",
    "- a saved model"
   ],
   "metadata": {
    "id": "hKtWKMeU7-lw"
   }
  },
  {
   "cell_type": "code",
   "source": [],
   "metadata": {
    "id": "kWZB8cMi8Gco"
   },
   "outputs": [],
   "execution_count": null
  }
 ],
 "metadata": {
  "kernelspec": {
   "display_name": "Python (aiml)",
   "language": "python",
   "name": "aiml"
  },
  "language_info": {
   "codemirror_mode": {
    "name": "ipython",
    "version": 3
   },
   "file_extension": ".py",
   "mimetype": "text/x-python",
   "name": "python",
   "nbconvert_exporter": "python",
   "pygments_lexer": "ipython3",
   "version": "3.10.9"
  },
  "colab": {
   "provenance": [],
   "gpuType": "T4"
  },
  "gpuClass": "standard"
 },
 "nbformat": 4,
 "nbformat_minor": 0
}
