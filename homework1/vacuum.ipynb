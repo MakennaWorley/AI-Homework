{
 "cells": [
  {
   "cell_type": "markdown",
   "metadata": {},
   "source": [
    "# Assignment 1 - Vaccum Agent\n",
    "\n",
    "In this assignment, you are going to build a vaccum agent.\n",
    "\n",
    "![](https://aimacode.github.io/aima-exercises/figures/vacuum-world-figure.png)"
   ]
  },
  {
   "cell_type": "markdown",
   "metadata": {},
   "source": [
    "There are two rooms in the vaccum-cleaner world: left room A and right room B. The vaccum only can presents in one room at one time slot. The vacuum agent cleans **all** the trash in the current room if current room has trash, otherwise, the agent moves to the other room if current room is clean. The agent **never** stop cleaning or moving until time is up.\n",
    "\n",
    "A new trash will be produced at 60% chance every time after the vaccum cleans a room or moves to another room. And then this new trash will be randomly added to either left room or right room \n",
    "\n",
    "Please follow the example of [BlindDog](./blindDog.ipynb) to implement following code for buidling the vacuum-clearner world."
   ]
  },
  {
   "cell_type": "markdown",
   "metadata": {},
   "source": [
    "## Agent \n",
    "**You do not need to modify anything in this section.**"
   ]
  },
  {
   "cell_type": "code",
   "metadata": {
    "ExecuteTime": {
     "end_time": "2025-01-27T23:23:12.124236Z",
     "start_time": "2025-01-27T23:23:12.117813Z"
    }
   },
   "source": [
    "import collections\n",
    "import numbers\n",
    "import random"
   ],
   "outputs": [],
   "execution_count": 35
  },
  {
   "cell_type": "code",
   "metadata": {
    "ExecuteTime": {
     "end_time": "2025-01-27T23:23:12.134274Z",
     "start_time": "2025-01-27T23:23:12.131573Z"
    }
   },
   "source": [
    "class Thing:\n",
    "    \"\"\"This represents any physical object that can appear in an Environment.\n",
    "    You subclass Thing to get the things you want. Each thing can have a\n",
    "    .__name__  slot (used for output only).\"\"\"\n",
    "\n",
    "    def __repr__(self):\n",
    "        return '<{}>'.format(getattr(self, '__name__', self.__class__.__name__))\n",
    "\n",
    "    def is_alive(self):\n",
    "        \"\"\"Things that are 'alive' should return true.\"\"\"\n",
    "        return hasattr(self, 'alive') and self.alive"
   ],
   "outputs": [],
   "execution_count": 36
  },
  {
   "cell_type": "code",
   "metadata": {
    "ExecuteTime": {
     "end_time": "2025-01-27T23:23:12.144374Z",
     "start_time": "2025-01-27T23:23:12.141231Z"
    }
   },
   "source": [
    "class Agent(Thing):\n",
    "    \"\"\"An Agent is a subclass of Thing with one required instance attribute \n",
    "    (aka slot), .program, which should hold a function that takes one argument,\n",
    "    the percept, and returns an action. (What counts as a percept or action \n",
    "    will depend on the specific environment in which the agent exists.)\n",
    "    Note that 'program' is a slot, not a method. If it were a method, then the\n",
    "    program could 'cheat' and look at aspects of the agent. It's not supposed\n",
    "    to do that: the program can only look at the percepts. An agent program\n",
    "    that needs a model of the world (and of the agent itself) will have to\n",
    "    build and maintain its own model. There is an optional slot, .performance,\n",
    "    which is a number giving the performance measure of the agent in its\n",
    "    environment.\"\"\"\n",
    "\n",
    "    def __init__(self, program=None):\n",
    "        self.alive = True\n",
    "        \n",
    "        if program is None or not isinstance(program, collections.abc.Callable):\n",
    "            print(\"Can't find a valid program for {}, falling back to default.\".format(self.__class__.__name__))\n",
    "\n",
    "            def program(percept):\n",
    "                return eval(input('Percept={}; action? '.format(percept)))\n",
    "\n",
    "        self.program = program"
   ],
   "outputs": [],
   "execution_count": 37
  },
  {
   "cell_type": "markdown",
   "metadata": {},
   "source": [
    "The `Agent` has one method.\n",
    "* `__init__(self, program=None)`: The constructor defines various attributes of the Agent. These include\n",
    "\n",
    "    * `alive`: which keeps track of whether the agent is alive or not \n",
    "    \n",
    "    * `program`: which is the agent program and maps an agent's percepts to actions in the environment. If no implementation is provided, it defaults to asking the user to provide actions for each percept.\n",
    "\n",
    "## ENVIRONMENT\n",
    "\n",
    "**You do not need to modify anything in this section.**\n",
    "\n",
    "Now, let us see how environments are defined. Running the next cell will display an implementation of the abstract `Environment` class."
   ]
  },
  {
   "cell_type": "code",
   "metadata": {
    "ExecuteTime": {
     "end_time": "2025-01-27T23:23:12.164536Z",
     "start_time": "2025-01-27T23:23:12.157335Z"
    }
   },
   "source": [
    "\n",
    "class Environment:\n",
    "    \"\"\"Abstract class representing an Environment. 'Real' Environment classes\n",
    "    inherit from this. Your Environment will typically need to implement:\n",
    "        percept:           Define the percept that an agent sees.\n",
    "        execute_action:    Define the effects of executing an action.\n",
    "                           Also update the agent.performance slot.\n",
    "    The environment keeps a list of .things and .agents (which is a subset\n",
    "    of .things). Each agent has a .performance slot, initialized to 0.\n",
    "    Each thing has a .location slot, even though some environments may not\n",
    "    need this.\"\"\"\n",
    "\n",
    "    def __init__(self):\n",
    "        self.things = []\n",
    "        self.agents = []\n",
    "\n",
    "    def thing_classes(self):\n",
    "        return []  # List of classes that can go into environment\n",
    "\n",
    "    def percept(self, agent):\n",
    "        \"\"\"Return the percept that the agent sees at this point. (Implement this.)\"\"\"\n",
    "        raise NotImplementedError\n",
    "\n",
    "    def execute_action(self, agent, action):\n",
    "        \"\"\"Change the world to reflect this action. (Implement this.)\"\"\"\n",
    "        raise NotImplementedError\n",
    "\n",
    "    def default_location(self, thing):\n",
    "        \"\"\"Default location to place a new thing with unspecified location.\"\"\"\n",
    "        return None\n",
    "\n",
    "    def exogenous_change(self):\n",
    "        \"\"\"If there is spontaneous change in the world, override this.\"\"\"\n",
    "        pass\n",
    "\n",
    "    def is_done(self):\n",
    "        \"\"\"By default, we're done when we can't find a live agent.\"\"\"\n",
    "        return not any(agent.is_alive() for agent in self.agents)\n",
    "\n",
    "    def step(self):\n",
    "        \"\"\"Run the environment for one time step. If the\n",
    "        actions and exogenous changes are independent, this method will\n",
    "        do. If there are interactions between them, you'll need to\n",
    "        override this method.\"\"\"\n",
    "        if not self.is_done():\n",
    "            actions = []\n",
    "            for agent in self.agents:\n",
    "                if agent.alive:\n",
    "                    actions.append(agent.program(self.percept(agent)))\n",
    "                else:\n",
    "                    actions.append(\"\")\n",
    "            for (agent, action) in zip(self.agents, actions):\n",
    "                self.execute_action(agent, action)\n",
    "            self.exogenous_change()\n",
    "\n",
    "    def run(self, steps=1000):\n",
    "        \"\"\"Run the Environment for given number of time steps.\"\"\"\n",
    "        for step in range(steps):\n",
    "            print(\"Step\", step, \":\")\n",
    "            \n",
    "            if self.is_done():\n",
    "                return\n",
    "            self.step()\n",
    "            \n",
    "            # After each run, there is 30% chance to add a new trash at left \n",
    "            #   and another 30% chance to add a new trash at the right. \n",
    "            trash = Trash()\n",
    "            random_trash = random.random()\n",
    "            if random_trash < 0.3:\n",
    "                self.add_thing(trash, 'right')\n",
    "            elif random_trash < 0.6:\n",
    "                self.add_thing(trash, 'left')\n",
    "\n",
    "    def list_things_at(self, location, tclass=Thing):\n",
    "        \"\"\"Return all things exactly at a given location.\"\"\"\n",
    "        if isinstance(location, str):\n",
    "            return [thing for thing in self.things\n",
    "                    if thing.location == location and isinstance(thing, tclass)]\n",
    "        return [thing for thing in self.things\n",
    "                if all(x == y for x, y in zip(thing.location, location)) and isinstance(thing, tclass)]\n",
    "\n",
    "    def some_things_at(self, location, tclass=Thing):\n",
    "        \"\"\"Return true if at least one of the things at location\n",
    "        is an instance of class tclass (or a subclass).\"\"\"\n",
    "        return self.list_things_at(location, tclass) != []\n",
    "\n",
    "    def add_thing(self, thing, location=None):\n",
    "        \"\"\"Add a thing to the environment, setting its location. For\n",
    "        convenience, if thing is an agent program we make a new agent\n",
    "        for it. (Shouldn't need to override this.)\"\"\"\n",
    "        if not isinstance(thing, Thing):\n",
    "            thing = Agent(thing)\n",
    "        if thing in self.things:\n",
    "            print(\"Can't add the same thing twice\")\n",
    "        else:\n",
    "            thing.location = location if location is not None else self.default_location(thing)\n",
    "            \n",
    "            print(\"Added a {} at {}\".format(str(thing)[1:-1], thing.location))\n",
    "            \n",
    "            self.things.append(thing)\n",
    "            if isinstance(thing, Agent):\n",
    "                thing.performance = 0\n",
    "                self.agents.append(thing)\n",
    "\n",
    "    def delete_thing(self, thing):\n",
    "        \"\"\"Remove a thing from the environment.\"\"\"\n",
    "        try:\n",
    "            self.things.remove(thing)\n",
    "        except ValueError as e:\n",
    "            print(e)\n",
    "            print(\"  in Environment delete_thing\")\n",
    "            print(\"  Thing to be removed: {} at {}\".format(thing, thing.location))\n",
    "            print(\"  from list: {}\".format([(thing, thing.location) for thing in self.things]))\n",
    "        if thing in self.agents:\n",
    "            self.agents.remove(thing)\n"
   ],
   "outputs": [],
   "execution_count": 38
  },
  {
   "cell_type": "markdown",
   "metadata": {},
   "source": [
    "`Environment` class has lot of methods! But most of them are incredibly simple, so let's see the ones we'll be using in this notebook.\n",
    "\n",
    "* `thing_classes(self)`: Returns a static array of `Thing` sub-classes that determine what things are allowed in the environment and what aren't\n",
    "\n",
    "* `add_thing(self, thing, location=None)`: Adds a thing to the environment at location\n",
    "\n",
    "* `run(self, steps)`: Runs an environment with the agent in it for a given number of steps.\n",
    "\n",
    "* `is_done(self)`: Returns true if the objective of the agent and the environment has been completed\n",
    "\n",
    "The next two functions must be implemented by each subclasses of `Environment` for the agent to recieve percepts and execute actions \n",
    "\n",
    "* `percept(self, agent)`: Given an agent, this method returns a list of percepts that the agent sees at the current time\n",
    "\n",
    "* `execute_action(self, agent, action)`: The environment reacts to an action performed by a given agent. The changes may result in agent experiencing new percepts or other elements reacting to agent input."
   ]
  },
  {
   "cell_type": "markdown",
   "metadata": {},
   "source": [
    "### ENVIRONMENT - Rooms\n",
    "\n",
    "Rooms is an example of an environment because our vacuum can perceive and act upon it. The <b>Environment</b> class is an abstract class, so we will have to create our own subclass from it before we can use it.\n",
    "\n",
    "Each trash is an object of class `Trash`. A single room could have more than one trash objects. And the vaccum needs to clean all the trash after executing `suck` action only once. \n",
    "\n",
    "Three actions are implemented in `executed_action`:\n",
    "\n",
    "- move vaccum to left if the action is `move to left` (change the location of the vaccum).\n",
    "\n",
    "- move vaccum to right if the action is `move to right` (change the location of the vaccum).\n",
    "\n",
    "- clean all trash in current room if the action is `suck` (delete the Trash objects at current location)."
   ]
  },
  {
   "cell_type": "code",
   "metadata": {
    "ExecuteTime": {
     "end_time": "2025-01-27T23:23:12.170705Z",
     "start_time": "2025-01-27T23:23:12.167968Z"
    }
   },
   "source": [
    "class Trash(Thing):\n",
    "    pass\n",
    "\n",
    "class Rooms(Environment):\n",
    "    def percept(self, agent):\n",
    "        '''return a list of things that are in our agent's location'''\n",
    "        things = self.list_things_at(agent.location)\n",
    "        return things\n",
    "    \n",
    "    def execute_action(self, agent, action):\n",
    "        '''changes the state of the environment based on what the agent does.'''\n",
    "        # copy example code from BlindDog and make necessary changes. \n",
    "        # write your code here\n",
    "        if action == \"move to left\":\n",
    "            print('{} decided to {} from room {}'.format(str(agent)[1:-1], action, agent.location))\n",
    "            agent.move_to_left()\n",
    "        if action == \"move to right\":\n",
    "            print('{} decided to {} from room {}'.format(str(agent)[1:-1], action, agent.location))\n",
    "            agent.move_to_right()\n",
    "        if action == \"suck\":\n",
    "            items = self.list_things_at(agent.location, tclass=Trash)\n",
    "            count = 1\n",
    "            for item in items:\n",
    "                if agent.clean(item):\n",
    "                    print('{} cleaned {} {} in room {}'\n",
    "                          .format(str(agent)[1:-1], str(items[0])[1:-1], count, agent.location))\n",
    "                    count += 1\n",
    "                    self.delete_thing(item)\n"
   ],
   "outputs": [],
   "execution_count": 39
  },
  {
   "cell_type": "markdown",
   "metadata": {},
   "source": [
    "### PROGRAM - Vacuum\n",
    "\n",
    "Now that we have a <b>Rooms</b> Class, we implement our <b>Vacuum</b> to be able to move and clean.\n"
   ]
  },
  {
   "cell_type": "code",
   "metadata": {
    "ExecuteTime": {
     "end_time": "2025-01-27T23:23:12.178111Z",
     "start_time": "2025-01-27T23:23:12.175321Z"
    }
   },
   "source": [
    "class Vacuum(Agent):\n",
    "    location = 'left'\n",
    "\n",
    "    def move_to_left(self):\n",
    "        self.location = 'left'\n",
    "\n",
    "    def move_to_right(self):\n",
    "        self.location = 'right'\n",
    "        \n",
    "    def clean(self, thing):\n",
    "        '''returns True upon success or False otherwise'''\n",
    "        if isinstance(thing, Trash):\n",
    "            return True\n",
    "        return False"
   ],
   "outputs": [],
   "execution_count": 40
  },
  {
   "cell_type": "markdown",
   "metadata": {},
   "source": [
    "Now its time to implement a <b>program</b> module for our vacuum. A program controls how the vacuum acts upon its environment. Our program will be very simple, and is shown in the table below.\n",
    "\n",
    "Dirty means vacuum percepts trash and clean means otherwise.\n",
    "\n",
    "<table>\n",
    "    <tr>\n",
    "        <td><b>Percept:</b> </td>\n",
    "        <td>Dirty</td>\n",
    "        <td>Clean</td>\n",
    "   </tr>\n",
    "   <tr>\n",
    "       <td><b>Action:</b> </td>\n",
    "       <td>Suck all trash</td>\n",
    "       <td>Move to the other room</td>\n",
    "   </tr>\n",
    "        \n",
    "</table>\n",
    "\n",
    "There is only one *Thing* in the room that the vacuum agent can observe: object of the Trash. The vacuum has three actions based on the precepts:\n",
    "\n",
    "- return action `suck` if there has trash in the room where the vaccum is at.\n",
    "\n",
    "- return action `move to left` if the vaccum is at right room and it is clean. \n",
    "\n",
    "- return action `move to right` if the vacuum is at left room and it is clean."
   ]
  },
  {
   "cell_type": "code",
   "metadata": {
    "ExecuteTime": {
     "end_time": "2025-01-27T23:23:12.184065Z",
     "start_time": "2025-01-27T23:23:12.182091Z"
    }
   },
   "source": [
    "# The input is percepts.\n",
    "# The output is actions: suck, move to left, or move to right. \n",
    "def program(percepts):\n",
    "    # write your code here\n",
    "    for p in percepts:\n",
    "        if isinstance(p, Vacuum):\n",
    "            location = p.location\n",
    "            continue\n",
    "        if isinstance(p, Trash):\n",
    "            return 'suck'\n",
    "    if location == 'left':\n",
    "        return 'move to right'\n",
    "    else:\n",
    "        return 'move to left'"
   ],
   "outputs": [],
   "execution_count": 41
  },
  {
   "cell_type": "markdown",
   "metadata": {},
   "source": [
    "Run the code below. The expected output is\n",
    "```\n",
    "Added a Vacuum at left\n",
    "Added a Trash at right\n",
    "Step 0 :\n",
    "Vacuum decided to move to right from room left\n",
    "Added a Trash at right\n",
    "Step 1 :\n",
    "Vacuum cleaned Trash 1 in room right\n",
    "Vacuum cleaned Trash 2 in room right\n",
    "Step 2 :\n",
    "Vacuum decided to move to left from room right\n",
    "Step 3 :\n",
    "Vacuum decided to move to right from room left\n",
    "Added a Trash at right\n",
    "Step 4 :\n",
    "Vacuum cleaned Trash 1 in room right\n",
    "Added a Trash at left\n",
    "Step 5 :\n",
    "Vacuum decided to move to left from room right\n",
    "Added a Trash at left\n",
    "Step 6 :\n",
    "Vacuum cleaned Trash 1 in room left\n",
    "Vacuum cleaned Trash 2 in room left\n",
    "Step 7 :\n",
    "Vacuum decided to move to right from room left\n",
    "Step 8 :\n",
    "Vacuum decided to move to left from room right\n",
    "Added a Trash at right\n",
    "Step 9 :\n",
    "Vacuum decided to move to right from room left\n",
    "Added a Trash at right\n",
    "```"
   ]
  },
  {
   "cell_type": "code",
   "metadata": {
    "ExecuteTime": {
     "end_time": "2025-01-27T23:23:12.198572Z",
     "start_time": "2025-01-27T23:23:12.195972Z"
    }
   },
   "source": [
    "random.seed(1)\n",
    "\n",
    "rooms = Rooms()\n",
    "vacuum = Vacuum(program)\n",
    "trash = Trash()\n",
    "rooms.add_thing(vacuum, 'left')\n",
    "rooms.add_thing(trash, 'right')\n",
    "\n",
    "# run 10 steps\n",
    "rooms.run(10)"
   ],
   "outputs": [
    {
     "name": "stdout",
     "output_type": "stream",
     "text": [
      "Added a Vacuum at left\n",
      "Added a Trash at right\n",
      "Step 0 :\n",
      "Vacuum decided to move to right from room left\n",
      "Added a Trash at right\n",
      "Step 1 :\n",
      "Vacuum cleaned Trash 1 in room right\n",
      "Vacuum cleaned Trash 2 in room right\n",
      "Step 2 :\n",
      "Vacuum decided to move to left from room right\n",
      "Step 3 :\n",
      "Vacuum decided to move to right from room left\n",
      "Added a Trash at right\n",
      "Step 4 :\n",
      "Vacuum cleaned Trash 1 in room right\n",
      "Added a Trash at left\n",
      "Step 5 :\n",
      "Vacuum decided to move to left from room right\n",
      "Added a Trash at left\n",
      "Step 6 :\n",
      "Vacuum cleaned Trash 1 in room left\n",
      "Vacuum cleaned Trash 2 in room left\n",
      "Step 7 :\n",
      "Vacuum decided to move to right from room left\n",
      "Step 8 :\n",
      "Vacuum decided to move to left from room right\n",
      "Added a Trash at right\n",
      "Step 9 :\n",
      "Vacuum decided to move to right from room left\n",
      "Added a Trash at right\n"
     ]
    }
   ],
   "execution_count": 42
  }
 ],
 "metadata": {
  "kernelspec": {
   "display_name": "Python 3 (ipykernel)",
   "language": "python",
   "name": "python3"
  },
  "language_info": {
   "codemirror_mode": {
    "name": "ipython",
    "version": 3
   },
   "file_extension": ".py",
   "mimetype": "text/x-python",
   "name": "python",
   "nbconvert_exporter": "python",
   "pygments_lexer": "ipython3",
   "version": "3.10.9"
  }
 },
 "nbformat": 4,
 "nbformat_minor": 4
}
