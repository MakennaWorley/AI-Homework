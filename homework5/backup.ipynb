{
 "cells": [
  {
   "cell_type": "markdown",
   "id": "98adf305-08e6-48c1-bc88-4025195bcb94",
   "metadata": {},
   "source": [
    "# Connect 4"
   ]
  },
  {
   "cell_type": "code",
   "id": "21a56f9d-799f-44f9-9260-947b8b3a10e0",
   "metadata": {
    "jupyter": {
     "is_executing": true
    }
   },
   "source": [
    "import copy\n",
    "import itertools\n",
    "import random\n",
    "from collections import namedtuple\n",
    "import numpy as np\n",
    "import math"
   ],
   "outputs": [],
   "execution_count": null
  },
  {
   "cell_type": "markdown",
   "id": "19192c18-0029-402a-89e7-19df4352beae",
   "metadata": {},
   "source": [
    "## Goals\n",
    "\n",
    "In this assignment, you are going to design an AI bot for solving connect 4. We have two goals:\n",
    "\n",
    "1. Complete the code of alpha beta depth limited minimax search. \n",
    "2. Write a better evaluation function. "
   ]
  },
  {
   "cell_type": "markdown",
   "id": "e64540f3-4e24-43ed-b10c-af991f56c105",
   "metadata": {},
   "source": [
    "## Step 1: Build the class of connect 4\n",
    "\n",
    "You should read the code and comments in this step. But you should not change anything in the code, unless you want to insert debugging information. \n",
    "\n",
    "### Step 1.1: Define state\n",
    "\n",
    "In the code cell below, we define the state using namedtuple, instead of using a class. Namedtuple is similar to a class. To learn more about namedtuple, go to [here](https://www.geeksforgeeks.org/namedtuple-in-python/)."
   ]
  },
  {
   "cell_type": "code",
   "id": "232cf00b-eb12-4656-ba2c-04319d0e4f16",
   "metadata": {
    "jupyter": {
     "is_executing": true
    }
   },
   "source": [
    "\"\"\"\n",
    "- to_move is the player who is going to make a move in current state. \n",
    "  to_move is initialized as X, because X moves first. \n",
    "\n",
    "  Please notice that to_move is not same as player in the minimax code below,\n",
    "  where player is the to_move at the root of the game tree. \n",
    "  \n",
    "- utility is updated when a new state is created. It is 1 for win, -1 for lose,\n",
    "  and 0 for tie or any non-terminal state. \n",
    "  \n",
    "  Please notice that the +1 or -1 value of state.utility refers to X. \n",
    "  \n",
    "- board is a dictionary with pair of (row, col): player. \n",
    "\n",
    "- moves are avaiable moves or actions at current state. \n",
    "\"\"\"\n",
    "GameState = namedtuple('GameState', 'to_move, utility, board, moves')"
   ],
   "outputs": [],
   "execution_count": null
  },
  {
   "cell_type": "markdown",
   "id": "7a215747-cc1a-4c32-8793-e2d8df676c59",
   "metadata": {},
   "source": [
    "### Step 1.2: Define Connect 4\n",
    "\n",
    "We define the class of connect 4 following this inheritance path:\n",
    "\n",
    "Game -> TicTacToe -> ConnectFour\n",
    "\n",
    "We view Connect 4 as a generalized game based on TicTacToe."
   ]
  },
  {
   "cell_type": "code",
   "id": "0d4f087c-cd3f-47bb-a793-4fb9e07c8b55",
   "metadata": {
    "jupyter": {
     "is_executing": true
    }
   },
   "source": [
    "class Game:\n",
    "    \"\"\"A game is similar to a searching problem, but it has a utility for each\n",
    "    state and a terminal test instead of a path cost and a goal\n",
    "    test. To create a game, subclass this class and implement actions,\n",
    "    result, utility, and terminal_test. You may override display and\n",
    "    successors or you can inherit their default methods. You will also\n",
    "    need to set the .initial attribute to the initial state; this can\n",
    "    be done in the constructor.\"\"\"\n",
    "\n",
    "    def actions(self, state):\n",
    "        \"\"\"Return a list of the allowable moves at this point.\"\"\"\n",
    "        raise NotImplementedError\n",
    "\n",
    "    def result(self, state, move):\n",
    "        \"\"\"Return the state that results from making a move from a state.\"\"\"\n",
    "        raise NotImplementedError\n",
    "\n",
    "    def utility(self, state, player):\n",
    "        \"\"\"Return the value of this final state to player.\"\"\"\n",
    "        raise NotImplementedError\n",
    "\n",
    "    def terminal_test(self, state):\n",
    "        \"\"\"Return True if this is a final state for the game.\"\"\"\n",
    "        return not self.actions(state)\n",
    "\n",
    "    def to_move(self, state): # return the player of current state \n",
    "        \"\"\"Return the player whose move it is in this state.\"\"\"\n",
    "        return state.to_move\n",
    "\n",
    "    def display(self, state):\n",
    "        \"\"\"Print or otherwise display the state.\"\"\"\n",
    "        print(state)\n",
    "\n",
    "    def __repr__(self):\n",
    "        return '<{}>'.format(self.__class__.__name__)\n",
    "\n",
    "\n",
    "class TicTacToe(Game):\n",
    "    \"\"\"Play TicTacToe on an h x v board, with Max (first player) playing 'X'.\n",
    "    A state has the player to move, a cached utility, a list of moves in\n",
    "    the form of a list of (x, y) positions, and a board, in the form of\n",
    "    a dict of {(x, y): Player} entries, where Player is 'X' or 'O'.\"\"\"\n",
    "\n",
    "    def __init__(self, h=3, v=3, k=3):\n",
    "        self.h = h\n",
    "        self.v = v\n",
    "        self.k = k\n",
    "        # Initially, all coordinates are available moves/actions. \n",
    "        moves = [(x, y) for x in range(1, h + 1)\n",
    "                 for y in range(1, v + 1)]\n",
    "        # Initially, X moves first, board dictionary is empty, and utility is 0. \n",
    "        self.initial = GameState(to_move='X', utility=0, board={}, moves=moves)\n",
    "\n",
    "    def actions(self, state):\n",
    "        \"\"\"Legal moves are any square not yet taken.\"\"\"\n",
    "        return state.moves\n",
    "\n",
    "    def result(self, state, move):\n",
    "        if move not in state.moves:\n",
    "            return state  # Illegal move has no effect\n",
    "        board = state.board.copy()\n",
    "        board[move] = state.to_move\n",
    "        moves = list(state.moves)\n",
    "        moves.remove(move) # delete the next move from action list. \n",
    "        return GameState(to_move=('O' if state.to_move == 'X' else 'X'), # switch player for deciding the next move\n",
    "                         utility=self.compute_utility(board, move, state.to_move),\n",
    "                         board=board, moves=moves)\n",
    "\n",
    "    def utility(self, state, player):\n",
    "        \"\"\"Return the value to player; 1 for win, -1 for loss, 0 otherwise.\n",
    "        If player is X (goes first), return the state utility because it is calculated based on X.\n",
    "        If player is O, return the opposite value. \n",
    "        \"\"\"\n",
    "        return state.utility if player == 'X' else -state.utility\n",
    "\n",
    "    def terminal_test(self, state):\n",
    "        \"\"\"A state is terminal if it is won or there are no empty squares.\"\"\"\n",
    "        return state.utility != 0 or len(state.moves) == 0\n",
    "\n",
    "    def display(self, state):\n",
    "        board = state.board\n",
    "        if self.__class__.__name__ == 'ConnectFour': # print last row at first\n",
    "            for x in range(self.h, 0 , -1):\n",
    "                for y in range(1, self.v + 1):\n",
    "                    print(board.get((x, y), '.'), end=' ')\n",
    "                print()\n",
    "        else: # print for tic-tac-toe\n",
    "            for x in range(1, self.h + 1):\n",
    "                for y in range(1, self.v + 1):\n",
    "                    print(board.get((x, y), '.'), end=' ')\n",
    "                print()\n",
    "\n",
    "    def compute_utility(self, board, move, player):\n",
    "        \"\"\"If 'X' wins with this move, return 1; if 'O' wins return -1; else return 0.\"\"\"\n",
    "        if (self.k_in_row(board, move, player, (0, 1)) or\n",
    "                self.k_in_row(board, move, player, (1, 0)) or\n",
    "                self.k_in_row(board, move, player, (1, -1)) or\n",
    "                self.k_in_row(board, move, player, (1, 1))):\n",
    "            return +1 if player == 'X' else -1\n",
    "        else:\n",
    "            return 0\n",
    "\n",
    "    def k_in_row(self, board, move, player, delta_x_y):\n",
    "        \"\"\"Return true if there is a line through move on board for player.\"\"\"\n",
    "        (delta_x, delta_y) = delta_x_y\n",
    "        x, y = move\n",
    "        n = 0  # n is number of moves in row\n",
    "        while board.get((x, y)) == player:\n",
    "            n += 1\n",
    "            x, y = x + delta_x, y + delta_y\n",
    "        x, y = move\n",
    "        while board.get((x, y)) == player:\n",
    "            n += 1\n",
    "            x, y = x - delta_x, y - delta_y\n",
    "        n -= 1  # Because we counted move itself twice\n",
    "        return n >= self.k\n",
    "\n",
    "\n",
    "class ConnectFour(TicTacToe):\n",
    "    \"\"\"A TicTacToe-like game in which you can only make a move on the bottom\n",
    "    row, or in a square directly above an occupied square.  Traditionally\n",
    "    played on a 7x6 board and requiring 4 in a row.\"\"\"\n",
    "\n",
    "    def __init__(self, h=6, v=7, k=4):\n",
    "        TicTacToe.__init__(self, h, v, k)\n",
    "\n",
    "    def actions(self, state): \n",
    "        # x is row, y is column\n",
    "        # up to 7 actions on 7 columns. \n",
    "        return [(x, y) for (x, y) in state.moves\n",
    "                if x == 1 or (x-1, y) in state.board]\n"
   ],
   "outputs": [],
   "execution_count": null
  },
  {
   "cell_type": "markdown",
   "id": "a72fd2ea-e1cc-4b3e-a1b7-9643f58bfb9b",
   "metadata": {},
   "source": [
    "## Step 2: Play the Game\n",
    "\n",
    "Define the game loop. You do not need to do anything in the function below. We'll call this function to play the game one bot vs another bot. "
   ]
  },
  {
   "cell_type": "code",
   "id": "cbfa049f-d486-478a-9ac5-77b70106ad17",
   "metadata": {
    "jupyter": {
     "is_executing": true
    }
   },
   "source": [
    "\"\"\"\n",
    "strategies are the AI bot functions.\n",
    "*strategies means it could receive various number of bots.\n",
    "\n",
    "Turn on verbose if you want to see the step-by-step board updates.\n",
    "\n",
    "kwargs_list receives addtional information instead of using default values in the bots. \n",
    "\"\"\"\n",
    "def play_game(game, *strategies, verbose = True, kwargs_list=None): \n",
    "        \"\"\"Play an n-person, move-alternating game.\"\"\"\n",
    "        state = game.initial\n",
    "        rounds = 0\n",
    "        while True:\n",
    "            rounds += 1\n",
    "            if verbose: print(\"\\nRound \", rounds, \":\")\n",
    "\n",
    "            # Each bot has its own eval function eval_fn. \n",
    "            # Name the one from first bot as eval_X and second one as eval_O.\n",
    "            if kwargs_list:\n",
    "                if 'eval_fn' in kwargs_list[0]:\n",
    "                    kwargs_list[0]['eval_X']  = kwargs_list[0]['eval_fn']\n",
    "                    del kwargs_list[0]['eval_fn']\n",
    "                else:\n",
    "                    kwargs_list[0]['eval_X']  = default_eval\n",
    "                \n",
    "                if 'eval_fn' in kwargs_list[1]:\n",
    "                    kwargs_list[1]['eval_O']  = kwargs_list[1]['eval_fn']\n",
    "                    del kwargs_list[1]['eval_fn']\n",
    "                else:\n",
    "                    kwargs_list[1]['eval_O']  = default_eval\n",
    "                    \n",
    "            strategy_id = 0\n",
    "            for strategy in strategies:\n",
    "                # call bot to choose the next move. \n",
    "                if kwargs_list: # if the bot has non-default arguments \n",
    "                    move = strategy(game, state, **kwargs_list[strategy_id]) \n",
    "                    strategy_id += 1\n",
    "                else:\n",
    "                    move = strategy(game, state) \n",
    "                \n",
    "                if verbose: \n",
    "                    print(state.to_move, \" moves on \", move)\n",
    "                \n",
    "                state = game.result(state, move) \n",
    "                \n",
    "                if verbose: \n",
    "                    game.display(state)\n",
    "                    \n",
    "                if game.terminal_test(state): # if game is over\n",
    "                    # self.to_move(self.initial) is the player of the first move. It sets as X in init. \n",
    "                    player = game.to_move(game.initial)\n",
    "                    result = game.utility(state, player)\n",
    "                    print(\"Number of Rounds: \", rounds)\n",
    "                    if result == 1:\n",
    "                        print(player, \" wins the game.\")\n",
    "                    elif result == 0:\n",
    "                        print(\"Tie\")\n",
    "                    else:\n",
    "                        print(player, \" loses the game.\")\n",
    "                    return rounds # end the game"
   ],
   "outputs": [],
   "execution_count": null
  },
  {
   "cell_type": "markdown",
   "id": "7dab07a1-8858-47e4-87c9-b3974e6662ae",
   "metadata": {},
   "source": [
    "Here we define two toy bots. The first one is actually not a bot. The human plays the game.\n",
    "\n",
    "The second one is a random player, who randomly choose an action to play. "
   ]
  },
  {
   "cell_type": "code",
   "id": "66234def-3fec-40c3-95d3-bb2b0d20df6d",
   "metadata": {
    "ExecuteTime": {
     "end_time": "2025-03-26T00:57:41.607668Z",
     "start_time": "2025-03-26T00:57:41.604384Z"
    }
   },
   "source": [
    "\n",
    "# A human player who types the action at each turn\n",
    "def human_player(game, state, **kwargs):\n",
    "    while True:\n",
    "        pos_raw = input(\"Please input a new position as row, column like 1,1: \")\n",
    "        x,y = [int(i) for i in pos_raw.split(',')]\n",
    "        if (x,y) not in game.actions(state):\n",
    "            print(\"Please input an available position!\")\n",
    "        else:\n",
    "            return (x,y)\n",
    "\n",
    "def random_player(game, state, **kwargs):\n",
    "    \"\"\"A player that chooses a legal move at random.\"\"\"\n",
    "    return random.choice(game.actions(state)) if game.actions(state) else None\n"
   ],
   "outputs": [],
   "execution_count": 5
  },
  {
   "cell_type": "markdown",
   "id": "5f1c9942-8e86-4785-bc11-ec3bddfcbafc",
   "metadata": {},
   "source": [
    "Now we can play the game! Run the code below to play the game with the random player. You go first."
   ]
  },
  {
   "cell_type": "code",
   "id": "44fbbdf4-2011-48aa-9fc5-e4d02a5d043f",
   "metadata": {
    "ExecuteTime": {
     "end_time": "2025-03-26T00:57:41.629933Z",
     "start_time": "2025-03-26T00:57:41.621434Z"
    }
   },
   "source": [
    "game = ConnectFour()\n",
    "play_game(game, random_player, random_player)"
   ],
   "outputs": [
    {
     "name": "stdout",
     "output_type": "stream",
     "text": [
      "\n",
      "Round  1 :\n",
      "X  moves on  (1, 2)\n",
      ". . . . . . . \n",
      ". . . . . . . \n",
      ". . . . . . . \n",
      ". . . . . . . \n",
      ". . . . . . . \n",
      ". X . . . . . \n",
      "O  moves on  (1, 3)\n",
      ". . . . . . . \n",
      ". . . . . . . \n",
      ". . . . . . . \n",
      ". . . . . . . \n",
      ". . . . . . . \n",
      ". X O . . . . \n",
      "\n",
      "Round  2 :\n",
      "X  moves on  (2, 3)\n",
      ". . . . . . . \n",
      ". . . . . . . \n",
      ". . . . . . . \n",
      ". . . . . . . \n",
      ". . X . . . . \n",
      ". X O . . . . \n",
      "O  moves on  (2, 2)\n",
      ". . . . . . . \n",
      ". . . . . . . \n",
      ". . . . . . . \n",
      ". . . . . . . \n",
      ". O X . . . . \n",
      ". X O . . . . \n",
      "\n",
      "Round  3 :\n",
      "X  moves on  (3, 2)\n",
      ". . . . . . . \n",
      ". . . . . . . \n",
      ". . . . . . . \n",
      ". X . . . . . \n",
      ". O X . . . . \n",
      ". X O . . . . \n",
      "O  moves on  (1, 4)\n",
      ". . . . . . . \n",
      ". . . . . . . \n",
      ". . . . . . . \n",
      ". X . . . . . \n",
      ". O X . . . . \n",
      ". X O O . . . \n",
      "\n",
      "Round  4 :\n",
      "X  moves on  (2, 4)\n",
      ". . . . . . . \n",
      ". . . . . . . \n",
      ". . . . . . . \n",
      ". X . . . . . \n",
      ". O X X . . . \n",
      ". X O O . . . \n",
      "O  moves on  (1, 7)\n",
      ". . . . . . . \n",
      ". . . . . . . \n",
      ". . . . . . . \n",
      ". X . . . . . \n",
      ". O X X . . . \n",
      ". X O O . . O \n",
      "\n",
      "Round  5 :\n",
      "X  moves on  (3, 4)\n",
      ". . . . . . . \n",
      ". . . . . . . \n",
      ". . . . . . . \n",
      ". X . X . . . \n",
      ". O X X . . . \n",
      ". X O O . . O \n",
      "O  moves on  (1, 1)\n",
      ". . . . . . . \n",
      ". . . . . . . \n",
      ". . . . . . . \n",
      ". X . X . . . \n",
      ". O X X . . . \n",
      "O X O O . . O \n",
      "\n",
      "Round  6 :\n",
      "X  moves on  (3, 3)\n",
      ". . . . . . . \n",
      ". . . . . . . \n",
      ". . . . . . . \n",
      ". X X X . . . \n",
      ". O X X . . . \n",
      "O X O O . . O \n",
      "O  moves on  (2, 1)\n",
      ". . . . . . . \n",
      ". . . . . . . \n",
      ". . . . . . . \n",
      ". X X X . . . \n",
      "O O X X . . . \n",
      "O X O O . . O \n",
      "\n",
      "Round  7 :\n",
      "X  moves on  (3, 1)\n",
      ". . . . . . . \n",
      ". . . . . . . \n",
      ". . . . . . . \n",
      "X X X X . . . \n",
      "O O X X . . . \n",
      "O X O O . . O \n",
      "Number of Rounds:  7\n",
      "X  wins the game.\n"
     ]
    },
    {
     "data": {
      "text/plain": [
       "7"
      ]
     },
     "execution_count": 6,
     "metadata": {},
     "output_type": "execute_result"
    }
   ],
   "execution_count": 6
  },
  {
   "cell_type": "markdown",
   "id": "af86d382-2a1e-4dd7-b5f1-c4d4eea37ddf",
   "metadata": {},
   "source": [
    "## Step 3: alpha beta cutoff search\n",
    "\n",
    "In this step, you need to finish the code below to complete alpha beta cutoff search. It adds this feature to the classicial alpha beta pruning code you worked on in the assignment tictactoe:\n",
    "\n",
    "It cuts off the tree at pre-defined depth limit or at terminal, and then returns an evaluation/heuristic value.\n",
    "\n",
    "**Hint**\n",
    "- Each player has its own evaluation function: eval_X and eval_O. You should call one of them during building of the entire game tree, depending on who is the current player at the root of the game tree.\n",
    "- player is constant in the game tree, while state.to_move changes at every turn. \n",
    "- Unlike the depth in pacman project, since the branch factor is 7 at most states, we define one level of the tree as one move from either X or O, which is **NOT** a round of play from both X and O. Here is the graphical explanation: \n",
    "\n",
    "```\n",
    "      MAX --> d = 0\n",
    "MIN   MIN   MIN  --> d = 1\n",
    "     ....        --> d = 2\n",
    "     ....\n",
    "```\n",
    "- You may use cache in the function, but you need to make sure your cache includes state, depth, and player, which is not the cache1 we used in the assignment of tictactoe. I did not use it in my solution. I suggest you to add cache feature after you complete this assignment in case the set up of your cache is wrong. "
   ]
  },
  {
   "cell_type": "code",
   "id": "c1815ded-b4a6-4a0e-9077-9013c671a93d",
   "metadata": {
    "ExecuteTime": {
     "end_time": "2025-03-26T00:57:50.139172Z",
     "start_time": "2025-03-26T00:57:50.133636Z"
    }
   },
   "source": [
    "infinity = math.inf\n",
    "\n",
    "# The default depth limit is 4.\n",
    "# The default evaluation function for X and O are all default_eval defined in the code cell below.\n",
    "def alpha_beta_cutoff_search(game, state, depth_limit=4, eval_X=default_eval, eval_O=default_eval):\n",
    "    \"\"\"Search game to determine best action; use alpha-beta pruning.\n",
    "    This version cuts off search and uses an evaluation function.\"\"\"\n",
    "\n",
    "    # player at the root of the game tree.\n",
    "    player = game.to_move(state)\n",
    "\n",
    "    # Maximizer\n",
    "    def max_value(state, alpha, beta, depth):\n",
    "        # call evaluation if cut off condition met\n",
    "        # Your code goes here:\n",
    "        if game.terminal_test(state) or depth >= depth_limit:\n",
    "            '''if player == 'X':\n",
    "                return eval_X(state, player)\n",
    "            else:'''\n",
    "            return eval_X(state, player)\n",
    "\n",
    "        v = -infinity\n",
    "\n",
    "        for action in game.actions(state):\n",
    "            v = min_value(game.result(state, action), alpha, beta, depth + 1)\n",
    "\n",
    "            if v >= beta:\n",
    "                return v\n",
    "\n",
    "            alpha = max(alpha, v)\n",
    "\n",
    "        return v\n",
    "\n",
    "    # Minimizer\n",
    "    def min_value(state, alpha, beta, depth):\n",
    "        # Your code goes here:\n",
    "        if game.terminal_test(state) or depth >= depth_limit:\n",
    "            ''' if player == 'X':\n",
    "                 return eval_X(state, player)\n",
    "             else:'''\n",
    "            return eval_O(state, player)\n",
    "\n",
    "        v = infinity\n",
    "\n",
    "        for action in game.actions(state):\n",
    "            v = max_value(game.result(state, action), alpha, beta, depth + 1)\n",
    "\n",
    "            if v <= alpha:\n",
    "                return v\n",
    "\n",
    "            beta = min(beta, v)\n",
    "\n",
    "        return v\n",
    "\n",
    "    # Body of alpha_beta_cutoff_search starts here:\n",
    "    best_score = -infinity\n",
    "    beta = infinity\n",
    "    best_action = None\n",
    "    for a in game.actions(state):\n",
    "        v = min_value(game.result(state, a), best_score, beta, 1)\n",
    "        if v > best_score:\n",
    "            best_score = v\n",
    "            best_action = a\n",
    "    return best_action\n"
   ],
   "outputs": [],
   "execution_count": 9
  },
  {
   "cell_type": "markdown",
   "id": "f305fffd-c37f-4456-8d6e-5e656d27bac3",
   "metadata": {},
   "source": [
    "Here is the default evaluation function. It returns 1 for win, -1 for lose, and 0 for tie or any state if it is not terminal. \n",
    "\n",
    "This simple evaluation is actually not very bad. It could estimate a few steps ahead and try it best to avoid choosing an action that could lose the game. "
   ]
  },
  {
   "cell_type": "code",
   "id": "c4792861-b225-4dd0-a4d4-627062dbe13d",
   "metadata": {
    "ExecuteTime": {
     "end_time": "2025-03-26T00:57:47.599791Z",
     "start_time": "2025-03-26T00:57:47.596919Z"
    }
   },
   "source": [
    "# *args means it could accept more arguments.\n",
    "def default_eval(state, player, *args):\n",
    "    if player == 'X':\n",
    "        return state.utility\n",
    "    else: \n",
    "        return -state.utility\n",
    "  "
   ],
   "outputs": [],
   "execution_count": 8
  },
  {
   "cell_type": "markdown",
   "id": "59f92c4d-d999-4176-bc86-18d511c51db7",
   "metadata": {},
   "source": [
    "### Step 3.1: Test your code.\n",
    "\n",
    "Once your alpha beta cutoff search code is done, you can run the code below to test your code.\n",
    "\n",
    "Run your code against the random player below. Your code should win the game. "
   ]
  },
  {
   "cell_type": "code",
   "id": "600410f2-8816-4292-88a4-ca71ce53f4a6",
   "metadata": {
    "ExecuteTime": {
     "end_time": "2025-03-26T18:23:38.621950Z",
     "start_time": "2025-03-26T18:23:38.462073Z"
    }
   },
   "source": [
    "game = ConnectFour()\n",
    "result = play_game(game, alpha_beta_cutoff_search, random_player);"
   ],
   "outputs": [
    {
     "ename": "NameError",
     "evalue": "name 'ConnectFour' is not defined",
     "output_type": "error",
     "traceback": [
      "\u001B[0;31m---------------------------------------------------------------------------\u001B[0m",
      "\u001B[0;31mNameError\u001B[0m                                 Traceback (most recent call last)",
      "Cell \u001B[0;32mIn[1], line 1\u001B[0m\n\u001B[0;32m----> 1\u001B[0m game \u001B[38;5;241m=\u001B[39m ConnectFour()\n\u001B[1;32m      2\u001B[0m result \u001B[38;5;241m=\u001B[39m play_game(game, alpha_beta_cutoff_search, random_player)\n",
      "\u001B[0;31mNameError\u001B[0m: name 'ConnectFour' is not defined"
     ]
    }
   ],
   "execution_count": 1
  },
  {
   "cell_type": "markdown",
   "id": "5662d88b-7b02-441c-9dd2-d39d54f88708",
   "metadata": {},
   "source": [
    "Run your code again using non-default depth. We turned the verbose False to save the space in the output. "
   ]
  },
  {
   "cell_type": "code",
   "id": "1bdd6296-93eb-48b7-a82e-5399fd1babad",
   "metadata": {
    "ExecuteTime": {
     "end_time": "2025-03-26T00:57:52.723116Z",
     "start_time": "2025-03-26T00:57:52.710621Z"
    }
   },
   "source": [
    "game = ConnectFour()\n",
    "play_game(game, alpha_beta_cutoff_search, alpha_beta_cutoff_search, \n",
    "               verbose = False, kwargs_list = [{'depth_limit':2}, {'depth_limit':4}]); # different cut off depth "
   ],
   "outputs": [
    {
     "name": "stdout",
     "output_type": "stream",
     "text": [
      "Number of Rounds:  9\n",
      "X  loses the game.\n"
     ]
    }
   ],
   "execution_count": 10
  },
  {
   "cell_type": "markdown",
   "id": "efbf7512-725e-42bf-8190-51f13dfb78e1",
   "metadata": {},
   "source": [
    "## Step 4. Design your own evaluation function. \n",
    "\n",
    "You could use state, player, and/or depth to design a better evaluation function than the default one. \n",
    "\n",
    "**Hint:**\n",
    "\n",
    "- Use what we learned in the class activity to guide your design, but you could do better.\n",
    "- player is the player at the root of the game tree. \n",
    "- Use state.board to get the board dictionary and then use board.get((r,c)) to get the value at position (r,c).\n",
    "    - The value on the board could be X, O, or a dot .\n",
    "- You should not just design an evaluation function to win, but also to win as quickly as possible. "
   ]
  },
  {
   "cell_type": "code",
   "execution_count": null,
   "id": "1968f4de-9426-4fd8-a4f2-4526b2450684",
   "metadata": {
    "tags": []
   },
   "outputs": [],
   "source": [
    "def better_eval(state, player, depth):\n",
    "   # Your code goes here:\n",
    "\n",
    "\n",
    "\n"
   ]
  },
  {
   "cell_type": "markdown",
   "id": "c8399f19-07eb-475b-8994-639ce4b2e72b",
   "metadata": {},
   "source": [
    "### Step 4.1: Testing your better evaluation function\n",
    "\n",
    "**Test A:** Run the code below to see if you can beat the bot you just built. It would be a surprise if you can win. "
   ]
  },
  {
   "cell_type": "code",
   "execution_count": null,
   "id": "41d0faa6-58fc-489a-8085-ae2776b06395",
   "metadata": {},
   "outputs": [],
   "source": [
    "game = ConnectFour()\n",
    "play_game(game, alpha_beta_cutoff_search, random_player,\n",
    "               verbose = True, kwargs_list = [{'depth_limit':4, 'eval_fn':better_eval}, {}]); "
   ]
  },
  {
   "cell_type": "markdown",
   "id": "70f64ac5-783f-4cdb-87ab-3404dfe22e93",
   "metadata": {},
   "source": [
    "**Test B:** Run the code below to play the game between two better bots at different depth. Usually, the bot with deeper depth wins the game. "
   ]
  },
  {
   "cell_type": "code",
   "execution_count": null,
   "id": "da691cde-94fc-468d-91ba-5c85ccf164ac",
   "metadata": {},
   "outputs": [],
   "source": [
    "game = ConnectFour()\n",
    "play_game(game, alpha_beta_cutoff_search, alpha_beta_cutoff_search, \n",
    "               verbose = False, kwargs_list = [{'depth_limit':4, 'eval_fn':better_eval}, \n",
    "                                               {'depth_limit':3, 'eval_fn':better_eval}]); # different cut off depth "
   ]
  },
  {
   "cell_type": "markdown",
   "id": "8c23fea1-e5de-43cd-82ff-56da5e7cd773",
   "metadata": {},
   "source": [
    "**Test C:** Run the code below to play the game between your better bot and the default bot."
   ]
  },
  {
   "cell_type": "code",
   "execution_count": null,
   "id": "c44739df-d0d3-4d2a-b642-5800a5f09515",
   "metadata": {},
   "outputs": [],
   "source": [
    "game = ConnectFour()\n",
    "play_game(game, alpha_beta_cutoff_search, alpha_beta_cutoff_search, \n",
    "               verbose = False, kwargs_list = [{'depth_limit':4, 'eval_fn':better_eval}, {}]); "
   ]
  },
  {
   "cell_type": "markdown",
   "id": "73fcf5f1-abbc-4257-bb64-ad60a1691fd2",
   "metadata": {},
   "source": [
    "**Test D:** Run the code below to play the game between your better bot and the random bot 10 times."
   ]
  },
  {
   "cell_type": "code",
   "execution_count": null,
   "id": "0dc89056-3490-4f6b-80c3-bd77afe77b3b",
   "metadata": {},
   "outputs": [],
   "source": [
    "rounds = 0\n",
    "for i in range(10):\n",
    "    game = ConnectFour()\n",
    "    rounds += play_game(game, alpha_beta_cutoff_search, random_player, \n",
    "               verbose = False, kwargs_list = [{'depth_limit':4, 'eval_fn':better_eval}, {}]); \n",
    "print(\"The average rounds is \", rounds/10)"
   ]
  },
  {
   "cell_type": "markdown",
   "id": "ae30c627-9845-41fd-9649-1ead221d49a1",
   "metadata": {},
   "source": [
    "## Grading Note\n",
    "\n",
    "- You will lose 40 points at least if your bot cannot beat default bot in test C and random bot in test D. \n",
    "- You will lose 30 points if your bot cannot beat the random bot less than 10 rounds in average in test D. \n",
    "- You will lose 20 points if your bot at deeper level cannot beat the bot at shallow level in test B. \n",
    "- You will lose 10 points if your bot needs to beat the default bot equal or more than 15 rounds in test C. \n",
    "- **Additional** up to 5 points if your bot can beat my bot when I grade your bot."
   ]
  },
  {
   "cell_type": "code",
   "execution_count": null,
   "id": "022d5f50-73e5-467a-9659-1f68ff4b54d7",
   "metadata": {},
   "outputs": [],
   "source": []
  }
 ],
 "metadata": {
  "kernelspec": {
   "display_name": "Python 3 (ipykernel)",
   "language": "python",
   "name": "python3"
  },
  "language_info": {
   "codemirror_mode": {
    "name": "ipython",
    "version": 3
   },
   "file_extension": ".py",
   "mimetype": "text/x-python",
   "name": "python",
   "nbconvert_exporter": "python",
   "pygments_lexer": "ipython3",
   "version": "3.10.9"
  }
 },
 "nbformat": 4,
 "nbformat_minor": 5
}
