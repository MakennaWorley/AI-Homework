{
 "cells": [
  {
   "cell_type": "markdown",
   "id": "a882c5be-876e-4869-a446-36dc2837345f",
   "metadata": {},
   "source": [
    "# 500-queen\n",
    "\n",
    "In this assignment, you need to use efficient backtracking to solve 500-queen problem. "
   ]
  },
  {
   "cell_type": "code",
   "id": "4272f1bb-1257-4a2a-9e61-e0bc6c8a7619",
   "metadata": {
    "ExecuteTime": {
     "end_time": "2025-02-22T20:22:47.233228Z",
     "start_time": "2025-02-22T20:22:47.231014Z"
    }
   },
   "source": [
    "import numpy as np\n",
    "import matplotlib.pyplot as plt"
   ],
   "outputs": [],
   "execution_count": 26
  },
  {
   "cell_type": "code",
   "id": "a2af85a5-e41e-497a-963b-2f4bc93d3303",
   "metadata": {
    "ExecuteTime": {
     "end_time": "2025-02-22T20:22:47.251041Z",
     "start_time": "2025-02-22T20:22:47.248668Z"
    }
   },
   "source": [
    "import warnings\n",
    "warnings.filterwarnings('ignore')"
   ],
   "outputs": [],
   "execution_count": 27
  },
  {
   "cell_type": "markdown",
   "id": "39a99b44-50e9-4f24-bc6a-2efa116a708f",
   "metadata": {},
   "source": [
    "### CSP and Backtracking \n",
    "\n",
    "You do not need to write any code in this section. "
   ]
  },
  {
   "cell_type": "markdown",
   "id": "dbf114b7-8230-40ff-b193-9d96a8ed53ea",
   "metadata": {},
   "source": [
    "The class below is the base class for all CSP problems. Each specific CSP, such as the N-Queens or map-coloring problem, will be formulated as a class inherited from this CSP class.\n",
    "\n",
    "Please read the comments inside this class to understand the functionalities of its variables and functions."
   ]
  },
  {
   "cell_type": "code",
   "id": "94d8c5f8-81e1-4494-a73e-406c6ca78a09",
   "metadata": {
    "ExecuteTime": {
     "end_time": "2025-02-22T20:22:47.263113Z",
     "start_time": "2025-02-22T20:22:47.259738Z"
    }
   },
   "source": [
    "class CSP():\n",
    "    \"\"\"This class describes finite-domain Constraint Satisfaction Problems.\n",
    "    A CSP is specified by the following inputs:\n",
    "        variables   A list of variables; each is atomic (e.g. int or string).\n",
    "        domains     A dict of {var:[possible_value, ...]} entries.\n",
    "        neighbors   A dict of {var:[var,...]} that for each variable lists\n",
    "                    the other variables that participate in constraints.\n",
    "        constraints A function f(A, a, B, b) that returns true if neighbors\n",
    "                    A, B satisfy the constraint when they have values A=a, B=b\n",
    "\n",
    "    In the textbook and in most mathematical definitions, the\n",
    "    constraints are specified as explicit pairs of allowable values,\n",
    "    but the formulation here is easier to express and more compact for\n",
    "    most cases (for example, the n-Queens problem can be represented\n",
    "    in O(n) space using this notation, instead of O(n^4) for the\n",
    "    explicit representation). In terms of describing the CSP as a\n",
    "    problem, that's all there is.\n",
    "\n",
    "    However, the class also supports data structures and methods that help you\n",
    "    solve CSPs by calling a search function on the CSP. Methods and slots are\n",
    "    as follows, where the argument 'a' represents an assignment, which is a\n",
    "    dict of {var:val} entries:\n",
    "        assign(var, val, a)     Assign a[var] = val; do other bookkeeping\n",
    "        unassign(var, a)        Do del a[var], plus other bookkeeping\n",
    "        conflicts(var, val, a) Return if constaints are satisfied for var=val with assigned variables.\n",
    "    \"\"\"\n",
    "\n",
    "    def __init__(self, variables, domains, neighbors, constraints):\n",
    "        \"\"\"Construct a CSP problem. If variables is empty, it becomes domains.keys().\"\"\"\n",
    "        variables = variables or list(domains.keys())\n",
    "        self.variables = variables\n",
    "        self.domains = domains\n",
    "        self.neighbors = neighbors\n",
    "        self.constraints = constraints\n",
    "\n",
    "    def assign(self, var, val, assignment):\n",
    "        \"\"\"Add {var: val} to assignment; Discard the old value if any.\"\"\"\n",
    "        assignment[var] = val\n",
    "\n",
    "    def unassign(self, var, assignment):\n",
    "        \"\"\"Remove {var: val} from assignment.\n",
    "        DO NOT call this if you are changing a variable to a new value;\n",
    "        just call assign for that.\"\"\"\n",
    "        if var in assignment:\n",
    "            del assignment[var]\n",
    "\n",
    "    def conflict(self, var, val, assignment):\n",
    "        \"\"\"Return if constaints are satisfied for var=val with assigned variables.\"\"\"\n",
    "\n",
    "        # Subclasses may implement this more efficiently\n",
    "        def conflict_var(var2):\n",
    "            return var2 in assignment and not self.constraints(var, val, var2, assignment[var2])\n",
    "\n",
    "        return 0 != np.sum(conflict_var(v) for v in self.neighbors[var])\n",
    "\n",
    "    # These are for constraint propagation\n",
    "\n",
    "    def prune(self, var, value, removals):\n",
    "        \"\"\"Rule out var=value.\"\"\"\n",
    "        self.domains[var].remove(value)\n",
    "        if removals is not None:\n",
    "            removals.append((var, value))\n",
    "\n",
    "    def restore(self, removals):\n",
    "        \"\"\"Undo prune and all inferences from it.\"\"\"\n",
    "        for B, b in removals:\n",
    "            self.domains[B].append(b)\n"
   ],
   "outputs": [],
   "execution_count": 28
  },
  {
   "cell_type": "markdown",
   "id": "40b45466-5d7a-46bf-8312-8c1dacc15273",
   "metadata": {},
   "source": [
    "This is the class for the N-Queens problem, inherited from the CSP base class. It defines two required parts:\n",
    "\n",
    "1. Initialization:\n",
    "    - Variables: n integers representing n queens, with one queen per row.\n",
    "    - Domains: A list of n integers, meaning each queen can be placed in any column within its row.\n",
    "    - Neighbors of variables: A list of n-1 integers, indicating that each queen has constraints with all other queens.\n",
    "2. Constraint Function:\n",
    "\n",
    "    Defines a function that accepts two queens in two different rows. It returns True if the constraints are satisfied, meaning no conflicts are found."
   ]
  },
  {
   "cell_type": "code",
   "id": "e518f839-2b13-4fd6-92a6-abe51e69420c",
   "metadata": {
    "ExecuteTime": {
     "end_time": "2025-02-22T20:22:47.270003Z",
     "start_time": "2025-02-22T20:22:47.266592Z"
    }
   },
   "source": [
    "class NQueensCSP(CSP):\n",
    "    \"\"\"\n",
    "    Make a CSP for the nQueens problem.\n",
    "    Think of placing queens one per row, from top to bottom.\n",
    "    That means position (x, y) represents (var, val) in the CSP.\n",
    "    \"\"\"\n",
    "\n",
    "    def __init__(self, n):\n",
    "        \"\"\"Initialize data structures for n Queens.\"\"\"\n",
    "        domains = {}\n",
    "        neighbors = {}\n",
    "        for i in range(n):\n",
    "            domains[i] = list(range(n))\n",
    "        for i in range(n): # exclude itself as neighbor \n",
    "            all_neighbors = list(range(n))\n",
    "            neighbors[i] = all_neighbors[:i] + all_neighbors[i+1:]\n",
    "        CSP.__init__(self, list(range(n)), domains,\n",
    "                     neighbors, self.constraint)\n",
    "        \n",
    "    # put constraints inside the class\n",
    "    def constraint(self, A, a, B, b):\n",
    "        # It returns True if the constraints are satisfied, meaning no conflicts are found.\n",
    "        \"\"\"Constraint is satisfied (true) if A, B are really the same variable,\n",
    "        or if they are not in the same row, down diagonal, or up diagonal.\"\"\"\n",
    "        # All (i,j) on same diagonal / have same sum i+j, from top left corner 0 to bottom right corner 2n-2\n",
    "        # All (i,j) on same diagonal \\ have same difference i-j, from bottom left corner n-1 to top right corner -(n-1) \n",
    "        return A == B or (a != b and A + a != B + b and A - a != B - b)\n",
    "\n",
    "    def display(self, assignment):\n",
    "        \"\"\"Print the queens for n < 30.\"\"\"\n",
    "        n = len(assignment)\n",
    "        board = np.array([2 * int((i + j) % 2) for j in range(n) for i in range(n)]).reshape((n, n))\n",
    "        fig = plt.figure(figsize=(7, 7))\n",
    "        ax = fig.add_subplot(111)\n",
    "        ax.set_title('{} Queens'.format(n))\n",
    "        plt.imshow(board, cmap='binary', interpolation='nearest')\n",
    "        # NQueensCSP gives a solution as a dictionary\n",
    "        if isinstance(assignment, dict):\n",
    "            for (k, v) in assignment.items():\n",
    "                plt.annotate('Q', (k,v), color='red', size=200/n)\n",
    "\n",
    "        fig.tight_layout()\n",
    "        plt.show()\n",
    "        \n",
    "    def verify(self, assigment):\n",
    "        \"\"\"Verify if assignment reaches a solution.\"\"\"\n",
    "        for var in self.variables:\n",
    "            if var not in assignment or self.conflict(var, assignment[var], assignment):\n",
    "                print(\"Solution is wrong!\\n\")\n",
    "                return \n",
    "        print(\"Solution is correct!\\n\")"
   ],
   "outputs": [],
   "execution_count": 29
  },
  {
   "cell_type": "markdown",
   "id": "92cf7c6a-a11b-4992-8a69-2240a29c97cd",
   "metadata": {},
   "source": [
    "The function below defines a naive ordering method for selecting the next unassigned variable to assign a new value."
   ]
  },
  {
   "cell_type": "code",
   "id": "0a34550c-9e6a-4d75-8fe9-ac8bfc2b45b3",
   "metadata": {
    "ExecuteTime": {
     "end_time": "2025-02-22T20:22:47.275574Z",
     "start_time": "2025-02-22T20:22:47.273955Z"
    }
   },
   "source": [
    "def first_unassigned_variable(csp, assignment):\n",
    "    \"\"\"\n",
    "    The default variable order.\n",
    "    Return the first variable in the list of unassigned variables. \n",
    "    \"\"\"\n",
    "    for var in csp.variables:\n",
    "        if var not in assignment:\n",
    "            return var\n",
    "    return None # if all variables have been assigned. "
   ],
   "outputs": [],
   "execution_count": 30
  },
  {
   "cell_type": "markdown",
   "id": "dcdc322e-22bb-4593-aad6-b353aca30216",
   "metadata": {},
   "source": [
    "The function below defines a dummy filtering method for pruning domains after an assignment. It is a placeholder function that does nothing."
   ]
  },
  {
   "cell_type": "code",
   "id": "2f333e84-fa99-42cc-879f-8975b84d0385",
   "metadata": {
    "ExecuteTime": {
     "end_time": "2025-02-22T20:22:47.280839Z",
     "start_time": "2025-02-22T20:22:47.279306Z"
    }
   },
   "source": [
    "def no_filtering(csp, var, value, assignment, removals):\n",
    "    \"\"\"The default filtering.\n",
    "    \"\"\"\n",
    "    return True"
   ],
   "outputs": [],
   "execution_count": 31
  },
  {
   "cell_type": "markdown",
   "id": "098537b0-3be1-4435-8109-6233efc67261",
   "metadata": {},
   "source": [
    "The function below defines the backtracking algorithm. It required both ordering and filtering methods. Please read carefully to understand the code."
   ]
  },
  {
   "cell_type": "code",
   "id": "82134c18-45b7-4db4-88ed-7b05b31697a9",
   "metadata": {
    "ExecuteTime": {
     "end_time": "2025-02-22T20:22:47.287386Z",
     "start_time": "2025-02-22T20:22:47.284806Z"
    }
   },
   "source": [
    "def backtracking_search(csp, ordering=first_unassigned_variable,\n",
    "                        filtering=no_filtering):\n",
    "    \"\"\"backtracking\"\"\"\n",
    "\n",
    "    def backtrack(assignment):\n",
    "        # assignment is a dictionary - variable:value or var:val. \n",
    "        if len(assignment) == len(csp.variables):\n",
    "            return assignment\n",
    "        var = ordering(csp, assignment) # MRV or first_unassigned_variable\n",
    "        for value in csp.domains[var]: # could use LCV here\n",
    "            if not csp.conflict(var, value, assignment): # if no conflict \n",
    "                csp.assign(var, value, assignment) # assign value to var\n",
    "                removals = [] # keep values removed from domains of variables during the filtering of forward checking or AC-3. \n",
    "                # True if there is no empty domain after filtering. \n",
    "                # False causes a backtracking by restoring of removals. \n",
    "                if filtering(csp, var, value, assignment, removals): # forward checking or AC-3\n",
    "                    result = backtrack(assignment) # continue to assign next variable\n",
    "                    if result is not None:\n",
    "                        return result\n",
    "                csp.restore(removals)\n",
    "        csp.unassign(var, assignment)\n",
    "        return None\n",
    "\n",
    "    result = backtrack({})\n",
    "    return result"
   ],
   "outputs": [],
   "execution_count": 32
  },
  {
   "cell_type": "markdown",
   "id": "802d52e5-25e4-422d-99c1-e46f9668105e",
   "metadata": {},
   "source": [
    "### Run backtracking with default setting\n",
    "\n",
    "- Choose first unassigned variable as ordering.\n",
    "- Choose first value in its domain as filtering, which does not prune any values from domains of variables after one assignment."
   ]
  },
  {
   "cell_type": "code",
   "id": "2e5629e6-4a76-4c90-9dbd-b848cfffe4a6",
   "metadata": {
    "ExecuteTime": {
     "end_time": "2025-02-22T20:22:47.376803Z",
     "start_time": "2025-02-22T20:22:47.293228Z"
    }
   },
   "source": [
    "%%time\n",
    "eight_queens = NQueensCSP(8) # Choose a number less or equal than 15. \n",
    "assignment = backtracking_search(eight_queens)\n",
    "eight_queens.verify(assignment)\n",
    "eight_queens.display(assignment)"
   ],
   "outputs": [
    {
     "name": "stdout",
     "output_type": "stream",
     "text": [
      "Solution is correct!\n",
      "\n"
     ]
    },
    {
     "data": {
      "text/plain": [
       "<Figure size 700x700 with 1 Axes>"
      ],
      "image/png": "[encoded data removed]"
     },
     "metadata": {},
     "output_type": "display_data"
    },
    {
     "name": "stdout",
     "output_type": "stream",
     "text": [
      "CPU times: user 219 ms, sys: 8.42 ms, total: 228 ms\n",
      "Wall time: 81.8 ms\n"
     ]
    }
   ],
   "execution_count": 33
  },
  {
   "cell_type": "markdown",
   "id": "fdd02dec-092c-4b8e-b5a3-8941d5e6982b",
   "metadata": {},
   "source": [
    "### Run backtracking with forward checking:\n",
    "\n",
    "Complete the code below to implement forward checking. "
   ]
  },
  {
   "cell_type": "code",
   "id": "2e2fa1e3-3cd8-4a7c-9704-83924aa6dab9",
   "metadata": {
    "ExecuteTime": {
     "end_time": "2025-02-22T20:22:47.384644Z",
     "start_time": "2025-02-22T20:22:47.382169Z"
    }
   },
   "source": [
    "def forward_checking(csp, var, value, assignment, removals):\n",
    "    \"\"\"Prune neighbor values inconsistent with var=value.\n",
    "    \n",
    "    Pseudocode:\n",
    "    for every neighbor B of var\n",
    "        if B is not assigned yet \n",
    "            check every value in current domain of B against value of var \n",
    "                if constraint is not satisified \n",
    "                    prune this value from B\n",
    "            if domain of B becomes empty \n",
    "                return False\n",
    "     return True\n",
    "     \"\"\"\n",
    "    # Your code goes here:\n",
    "    for neighbor in csp.neighbors[var]:\n",
    "        if neighbor not in assignment:\n",
    "            for val in csp.domains[neighbor]:\n",
    "                if not csp.constraint(var, value, neighbor, val):\n",
    "                    csp.prune(neighbor, val, removals)\n",
    "\n",
    "            if not csp.domains[neighbor]:\n",
    "                return False\n",
    "\n",
    "    return True\n"
   ],
   "outputs": [],
   "execution_count": 34
  },
  {
   "cell_type": "markdown",
   "id": "d8f70dde-f807-4b8a-8d98-1caea49f467c",
   "metadata": {},
   "source": [
    "For 20-queens, backtracking with forward checking should take less than five seconds to find a solution. "
   ]
  },
  {
   "cell_type": "code",
   "id": "8c76a0fa-009d-4a5b-9e00-2cba5fd9cf10",
   "metadata": {
    "ExecuteTime": {
     "end_time": "2025-02-22T20:22:48.688658Z",
     "start_time": "2025-02-22T20:22:47.400037Z"
    }
   },
   "source": [
    "%%time\n",
    "eight_queens = NQueensCSP(20)  # Choose a number less or equal than 20.\n",
    "assignment = backtracking_search(eight_queens, first_unassigned_variable, forward_checking)\n",
    "eight_queens.verify(assignment)"
   ],
   "outputs": [
    {
     "name": "stdout",
     "output_type": "stream",
     "text": [
      "Solution is correct!\n",
      "\n",
      "CPU times: user 1.66 s, sys: 4.53 ms, total: 1.66 s\n",
      "Wall time: 1.29 s\n"
     ]
    }
   ],
   "execution_count": 35
  },
  {
   "cell_type": "markdown",
   "id": "e2a14f4b-3390-4f6c-b11e-f774efe9f720",
   "metadata": {},
   "source": [
    "### Run backtracking with MRV and forward checking:\n",
    "\n",
    "Complete code below to implement MRV. \n",
    "\n",
    "Test your code using MRV and forward checking. "
   ]
  },
  {
   "cell_type": "code",
   "id": "dad66de2-cff5-4035-916b-2eed4abeb3de",
   "metadata": {
    "ExecuteTime": {
     "end_time": "2025-02-22T20:22:48.697851Z",
     "start_time": "2025-02-22T20:22:48.695583Z"
    }
   },
   "source": [
    "def mrv(csp, assignment):\n",
    "    \"\"\"Minimum-remaining-values heuristic.\n",
    "    Input: CSP of n-queen.\n",
    "           Current assignment. \n",
    "    Output: An unassigned variable with smallest domain. \n",
    "    \"\"\"\n",
    "    # Your code goes here: \n",
    "    unassigned_vars = [var for var in csp.variables if var not in assignment]\n",
    "    if not unassigned_vars:\n",
    "        return None\n",
    "\n",
    "    min_var = unassigned_vars[0]\n",
    "    min_size = len(csp.domains[min_var])\n",
    "\n",
    "    for var in unassigned_vars[1:]:\n",
    "        domain_size = len(csp.domains[var])\n",
    "        if domain_size < min_size:\n",
    "            min_var, min_size = var, domain_size\n",
    "\n",
    "    return min_var\n"
   ],
   "outputs": [],
   "execution_count": 36
  },
  {
   "cell_type": "markdown",
   "id": "2cb9217b-7780-49c8-8af9-6400ac283f9f",
   "metadata": {},
   "source": [
    "For nqueens, the time that backtracking with MRV and forward checking needs to take to find a solution is:\n",
    "\n",
    "| N of queens | Time   |   |   |   |\n",
    "|-------------|--------|---|---|---|\n",
    "| 20          | 4.9 ms  |   |   |   |\n",
    "| 100         | 82.4 ms |   |   |   |\n",
    "| 500         | 4.38 s  |   |   |   |\n",
    "\n",
    "These runing time is measured on my Mac (MacBook Air (M1, 2020)).\n",
    "\n",
    "You are expected to take less than 10 seconds to find a solution for 500-queen. "
   ]
  },
  {
   "cell_type": "code",
   "id": "250650d6-6595-40ab-b213-c4f38c2a615d",
   "metadata": {
    "ExecuteTime": {
     "end_time": "2025-02-22T20:22:51.634331Z",
     "start_time": "2025-02-22T20:22:48.705540Z"
    }
   },
   "source": [
    "%%time\n",
    "eight_queens = NQueensCSP(500)\n",
    "assignment = backtracking_search(eight_queens, mrv, forward_checking)\n",
    "eight_queens.verify(assignment)"
   ],
   "outputs": [
    {
     "name": "stdout",
     "output_type": "stream",
     "text": [
      "Solution is correct!\n",
      "\n",
      "CPU times: user 2.75 s, sys: 180 ms, total: 2.93 s\n",
      "Wall time: 2.93 s\n"
     ]
    }
   ],
   "execution_count": 37
  },
  {
   "cell_type": "markdown",
   "id": "2673fc78-aee3-48da-a883-2596060223c3",
   "metadata": {},
   "source": [
    "### Run backtracking with MRV and AC-3:\n",
    "\n",
    "Complete code below to implement AC-3. \n",
    "\n",
    "Test your code using MRV and AC-3. "
   ]
  },
  {
   "cell_type": "code",
   "id": "b98d8da2-e16b-430f-a898-40639916225f",
   "metadata": {
    "ExecuteTime": {
     "end_time": "2025-02-22T20:22:51.641250Z",
     "start_time": "2025-02-22T20:22:51.638595Z"
    }
   },
   "source": [
    "def AC3(csp, var, value, assignment, removals):  \n",
    "    # Prune all inconsistent values in all domains. \n",
    "    \n",
    "    # queue of all paris of queens. \n",
    "    queue = [(Xi, Xk) for Xi in csp.variables for Xk in csp.neighbors[Xi]]\n",
    "    \n",
    "    \n",
    "    # prune the domain of the newly assigned variable as the only assigned value var. \n",
    "    for v in csp.domains[var][:]: # must use [:] to make a copy. otherwise prune inside the loop changes the domain size. \n",
    "        if v != value:\n",
    "            csp.prune(var, v, removals)\n",
    "    \n",
    "    while queue:\n",
    "        (Xi, Xj) = queue.pop() # pop out one pair Xi -> Xj for filtering below \n",
    "        \"\"\"\n",
    "        update Xi -> Xj to remove values in domain of Xi which conflict with every value in Xj\n",
    "        if domain of Xi reduces, which means some or all values of Xi pruned\n",
    "            if domain of Xi is empty, return False since current CSP assignment is inconsistent\n",
    "            else add all possible affected pairs Xk -> Xi back to queue, but do not add paris that are already in the queue\n",
    "        \"\"\"\n",
    "        # Your code goes here:\n",
    "        revised = False\n",
    "        for x in csp.domains[Xi][:]:\n",
    "            if not any(csp.constraints(Xi, x, Xj, y) for y in csp.domains[Xj]):\n",
    "                csp.prune(Xi, x, removals)\n",
    "                revised = True\n",
    "\n",
    "        if revised:\n",
    "            if not csp.domains[Xi]:\n",
    "                return False\n",
    "            for Xk in csp.neighbors[Xi]:\n",
    "                if Xk != Xj:\n",
    "                    queue.append((Xk, Xi))\n",
    "\n",
    "    return True "
   ],
   "outputs": [],
   "execution_count": 38
  },
  {
   "cell_type": "markdown",
   "id": "b0b5ccc1-1191-4297-8377-c4a3efc62505",
   "metadata": {},
   "source": [
    "For 20-queens, backtracking with MRV and AC-3 should take less than a second to find a solution. \n",
    "\n",
    "Please note that AC-3 is slower than forward checking for solving n-queen problem. "
   ]
  },
  {
   "cell_type": "code",
   "id": "ab60364c-503c-4cca-84a0-c81ea17e83dd",
   "metadata": {
    "ExecuteTime": {
     "end_time": "2025-02-22T20:22:51.694872Z",
     "start_time": "2025-02-22T20:22:51.656790Z"
    }
   },
   "source": [
    "%%time\n",
    "eight_queens = NQueensCSP(20)\n",
    "assignment = backtracking_search(eight_queens, mrv, AC3)\n",
    "eight_queens.verify(assignment)"
   ],
   "outputs": [
    {
     "name": "stdout",
     "output_type": "stream",
     "text": [
      "Solution is correct!\n",
      "\n",
      "CPU times: user 36.3 ms, sys: 707 μs, total: 37 ms\n",
      "Wall time: 36.3 ms\n"
     ]
    }
   ],
   "execution_count": 39
  }
 ],
 "metadata": {
  "kernelspec": {
   "display_name": "Python 3 (ipykernel)",
   "language": "python",
   "name": "python3"
  },
  "language_info": {
   "codemirror_mode": {
    "name": "ipython",
    "version": 3
   },
   "file_extension": ".py",
   "mimetype": "text/x-python",
   "name": "python",
   "nbconvert_exporter": "python",
   "pygments_lexer": "ipython3",
   "version": "3.10.9"
  }
 },
 "nbformat": 4,
 "nbformat_minor": 5
}
